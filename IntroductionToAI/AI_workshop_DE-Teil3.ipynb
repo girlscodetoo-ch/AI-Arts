{
 "cells": [
  {
   "cell_type": "markdown",
   "id": "bea74f85",
   "metadata": {
    "colab_type": "text",
    "id": "view-in-github"
   },
   "source": [
    "<a href=\"https://colab.research.google.com/github/girlscodetoo-ch/AI-Arts/blob/main/IntroductionToAI/workshop_DE-Teil3.ipynb\" target=\"_parent\"><img src=\"https://colab.research.google.com/assets/colab-badge.svg\" alt=\"Open In Colab\"/></a>"
   ]
  },
  {
   "cell_type": "markdown",
   "id": "coated-cambridge",
   "metadata": {
    "id": "coated-cambridge"
   },
   "source": [
    "# KS Stans Workshop - Künstliche Intelligenz und Kunst - Teil 3"
   ]
  },
  {
   "cell_type": "markdown",
   "id": "asian-psychology",
   "metadata": {
    "id": "asian-psychology"
   },
   "source": [
    "Willkommen zum dritten Teil des Kunst & Künstliche Intelligenz Workshop. In diesem so genannten _Notebook_ wirst du eine kurze Einführung in die Programmiersprache `Python` bekommen, wirst du erfahren, wie ein Computer Bilder sieht und lernen, wie man mit Künstlicher Intelligenz Kunst schaffen kann. Lasst uns loslegen!"
   ]
  },
  {
   "cell_type": "markdown",
   "id": "GItv9B56nbw1",
   "metadata": {
    "id": "GItv9B56nbw1"
   },
   "source": [
    "## **Teil III** - Künstliche Intelligenz"
   ]
  },
  {
   "cell_type": "markdown",
   "id": "RAzmXnLJUts-",
   "metadata": {
    "id": "RAzmXnLJUts-"
   },
   "source": [
    "![](https://raw.githubusercontent.com/girlscodetoo-ch/AI-Arts/main/images/ai-art.jpg)"
   ]
  },
  {
   "cell_type": "markdown",
   "id": "Y0QptQZAPf2m",
   "metadata": {
    "id": "Y0QptQZAPf2m"
   },
   "source": [
    "Wie kommen wir von hier zur künstlichen Intelligenz (KI)? Unser Ziel ist um mit KI Kunst aus Bildern zu erzeugen. Bis jetzt hast du die Grundlagen von Python gelernt und wie man Bilder in Python verarbeitet. Jetzt wirst du ein wenig über KI lernen. Wir werden mit der Grundidee von KI beginnen und ein einfaches Beispiel selbst erstellen. Wenn du diese Teile verstanden hast, können wir mit komplizierteren KI fortfahren und selbst eine KI für Bilder erstellen."
   ]
  },
  {
   "cell_type": "markdown",
   "id": "oe5ipmmpQYX0",
   "metadata": {
    "id": "oe5ipmmpQYX0"
   },
   "source": [
    "### Grundlagen von KI"
   ]
  },
  {
   "cell_type": "markdown",
   "id": "iAx8an36Pf_B",
   "metadata": {
    "id": "iAx8an36Pf_B"
   },
   "source": [
    "Wir werden zunächst mit einem kurzen Einführungsvideo über künstliche Intelligenz beginnen. Bitte sehe dich das Video unten an."
   ]
  },
  {
   "cell_type": "code",
   "execution_count": null,
   "id": "NxLEjzPfqVh8",
   "metadata": {
    "cellView": "form",
    "colab": {
     "base_uri": "https://localhost:8080/",
     "height": 521
    },
    "id": "NxLEjzPfqVh8",
    "outputId": "3a08f21d-c832-403e-a372-dc5ae56ba8f4"
   },
   "outputs": [
    {
     "data": {
      "image/jpeg": "[encoded data removed]",
      "text/html": [
       "\n",
       "        <iframe\n",
       "            width=\"750\"\n",
       "            height=\"500\"\n",
       "            src=\"https://www.youtube.com/embed/3RsmRMqX2IY\"\n",
       "            frameborder=\"0\"\n",
       "            allowfullscreen\n",
       "        ></iframe>\n",
       "        "
      ],
      "text/plain": [
       "<IPython.lib.display.YouTubeVideo at 0x7f8812fa6490>"
      ]
     },
     "execution_count": 4,
     "metadata": {},
     "output_type": "execute_result"
    }
   ],
   "source": [
    "#@title\n",
    "from IPython.display import YouTubeVideo\n",
    "YouTubeVideo('3RsmRMqX2IY', width=750, height=500)"
   ]
  },
  {
   "cell_type": "markdown",
   "id": "8wuDRx-LPgC_",
   "metadata": {
    "id": "8wuDRx-LPgC_"
   },
   "source": [
    "*Kurz zusammengefasst*: KI ist ein Computeralgorithmus oder -modell, das versucht, den Lernprozess des Gehirns zu imitieren. Im Gehirn gibt es viele Nervenzellen, die miteinander verbunden sind und Signale übertragen. Irgendwie ist das Gehirn in der Lage, Dinge zu lernen, z. B. als Kind, wie man bestimmte Tiere erkennt. Indem du viele Tiere beobachtest und von deinen Eltern eine Rückmeldung bekommst, ob du dem Tier den richtigen Namen gibst, hast du gelernt, diese Tiere zu identifizieren. Mit der künstlichen Intelligenz haben die Menschen versucht, diesen Prozess auf Computer zu übertragen. Wir werden in den nächsten Schritten herausfinden, wie das bei Computern funktioniert."
   ]
  },
  {
   "cell_type": "markdown",
   "id": "cHBGTXTlPgJI",
   "metadata": {
    "id": "cHBGTXTlPgJI"
   },
   "source": [
    "### Ein sehr einfaches neuronales Netz verstehen\n"
   ]
  },
  {
   "cell_type": "markdown",
   "id": "IIQNr__iPgGN",
   "metadata": {
    "id": "IIQNr__iPgGN"
   },
   "source": [
    "Konkret werden wir uns mit einer ganz bestimmten Art von KI beschäftigen, nämlich mit neuronalen Netzen. Mit neuronalen Netzen hat der Mensch versucht, die Neuronenstruktur des Gehirns in Computern nachzuahmen. "
   ]
  },
  {
   "cell_type": "code",
   "execution_count": null,
   "id": "OZd36AnKAiuM",
   "metadata": {
    "cellView": "form",
    "colab": {
     "base_uri": "https://localhost:8080/",
     "height": 421
    },
    "id": "OZd36AnKAiuM",
    "outputId": "0f41851a-5e92-4d14-c8cc-e717fac17822"
   },
   "outputs": [
    {
     "data": {
      "text/html": [
       "<img src=\"https://miro.medium.com/max/640/1*BQ0pIVk56WHyqigI9adDLw.gif\"/>"
      ],
      "text/plain": [
       "<IPython.core.display.Image object>"
      ]
     },
     "execution_count": 1,
     "metadata": {},
     "output_type": "execute_result"
    }
   ],
   "source": [
    "#@title\n",
    "from IPython.display import Image\n",
    "Image(url='https://miro.medium.com/max/640/1*BQ0pIVk56WHyqigI9adDLw.gif')"
   ]
  },
  {
   "cell_type": "markdown",
   "id": "ZivfL71hAX6R",
   "metadata": {
    "id": "ZivfL71hAX6R"
   },
   "source": [
    "Ein einfaches neuronales Netz basiert auf dem Prinzip der Betrachtung von Beispielen und dem Erhalt von Feedback zu diesen Beispielen. \n",
    "\n",
    "*Aufbau*: Ein neuronales Netz ist immer wie folgt aufgebaut. Es erhält eine Eingabe (**input**), das können zum Beispiel Bilder von Tieren sein. Denke daran, dass Bilder nur Listen von Listen mit Zahlen sind. In jeder nachfolgenden Schicht (**layer**) des Netzes wird die Eingabe mit Zahlen multipliziert, die Gewichte (**weights**) genannt werden. Am Ende steht eine Ausgangszahl (**output**), die in eine Wahrscheinlichkeit für eine bestimmte Beschriftung (**label**) übersetzt werden kann. Dieses Label kann zum Beispiel \"Katze\" oder \"Hund\" sein. "
   ]
  },
  {
   "cell_type": "code",
   "execution_count": null,
   "id": "RVKzy4X2G1Ql",
   "metadata": {
    "cellView": "form",
    "colab": {
     "base_uri": "https://localhost:8080/",
     "height": 371
    },
    "id": "RVKzy4X2G1Ql",
    "outputId": "85a52204-b4e5-4de9-e88d-12d8befcfaf0"
   },
   "outputs": [
    {
     "data": {
      "text/html": [
       "<img src=\"https://miro.medium.com/max/720/1*BIpRgx5FsEMhr1k2EqBKFg.gif\" width=\"600\" height=\"350\"/>"
      ],
      "text/plain": [
       "<IPython.core.display.Image object>"
      ]
     },
     "execution_count": 5,
     "metadata": {},
     "output_type": "execute_result"
    }
   ],
   "source": [
    "#@title\n",
    "from IPython.display import Image\n",
    "Image(url='https://miro.medium.com/max/720/1*BIpRgx5FsEMhr1k2EqBKFg.gif', width=600, height=350)"
   ]
  },
  {
   "cell_type": "markdown",
   "id": "xSO5bg5ZG1gD",
   "metadata": {
    "id": "xSO5bg5ZG1gD"
   },
   "source": [
    "*Lernprozess*: Ein neuronales Netz kann dann wie folgt lernen. Jedes Mal, wenn eine Eingabe durch das Netz propagiert wird und eine Ausgabe erzeugt, können wir diese mit der bekannten Beschriftung für die Eingabe vergleichen. Bei einem Bild einer Katze zum Beispiel ist die bekannte Beschriftung \"Katze\". Wenn die Ausgabe des Netzes eine Wahrscheinlichkeit für eine andere Beschriftung als \"Katze\" ergibt, können wir dem Netz sagen, dass es falsch ist, und es sollte schrittweise die Gewichte (die Zahlen im Netz) aktualisieren, so dass bei den nächsten Beispielen von Katzen die Beschriftung hoffentlich korrekter sind."
   ]
  },
  {
   "cell_type": "code",
   "execution_count": null,
   "id": "kqTaxYDvtqra",
   "metadata": {
    "cellView": "form",
    "colab": {
     "base_uri": "https://localhost:8080/",
     "height": 426
    },
    "id": "kqTaxYDvtqra",
    "outputId": "f0d24264-781b-4b0d-92f2-655ff731d9c7"
   },
   "outputs": [
    {
     "data": {
      "text/html": [
       "<img src=\"https://miro.medium.com/max/720/1*oB3S5yHHhvougJkPXuc8og.gif\"/>"
      ],
      "text/plain": [
       "<IPython.core.display.Image object>"
      ]
     },
     "execution_count": 5,
     "metadata": {},
     "output_type": "execute_result"
    }
   ],
   "source": [
    "#@title\n",
    "from IPython.display import Image\n",
    "Image(url='https://miro.medium.com/max/720/1*oB3S5yHHhvougJkPXuc8og.gif')"
   ]
  },
  {
   "cell_type": "markdown",
   "id": "683BRpVLCwVJ",
   "metadata": {
    "id": "683BRpVLCwVJ"
   },
   "source": [
    "Vergewisser dich, dass du die fett gedruckten Englischen Begriffe einigermaßen verstehst. Diese werden sich im nächsten Teil des Workshops wiederholen. Wir verstehen, dass der Lernprozess für dich vielleicht noch nicht ganz klar ist. Wir hoffen, dass du dies anhand eines einfachen Beispiels etwas besser verstehen wirst."
   ]
  },
  {
   "cell_type": "markdown",
   "id": "gg9KyluGJzH8",
   "metadata": {
    "id": "gg9KyluGJzH8"
   },
   "source": [
    "### Beispiel: Training eines einfachen neuronalen Netzes"
   ]
  },
  {
   "cell_type": "markdown",
   "id": "zpmOFW073FxX",
   "metadata": {
    "id": "zpmOFW073FxX"
   },
   "source": [
    "Wir werden dir zeigen, wie du ein einfaches neuronales Netz aufbaust und trainierst. Die Aufgabe, die das neuronale Netz erfüllen soll, ist die Klassifizierung von Bildern handgeschriebener Ziffern. Deine Daten bestehen aus Bildern handgeschriebener Ziffern und ihren jeweiligen Beschriftungen und werden als \"MNIST-Datensatz\" bezeichnet. (Siehe das Beispiel unten.)"
   ]
  },
  {
   "cell_type": "code",
   "execution_count": null,
   "id": "3xXpwRl33UnK",
   "metadata": {
    "cellView": "form",
    "colab": {
     "base_uri": "https://localhost:8080/",
     "height": 370
    },
    "id": "3xXpwRl33UnK",
    "outputId": "49c20ee7-c182-4d5e-ee8d-6b8145d02f82"
   },
   "outputs": [
    {
     "name": "stdout",
     "output_type": "stream",
     "text": [
      "The MNIST dataset\n"
     ]
    },
    {
     "data": {
      "text/html": [
       "<img src=\"https://miro.medium.com/max/720/1*O35lwO5O4sK0_9GuE5aG0A.png\"/>"
      ],
      "text/plain": [
       "<IPython.core.display.Image object>"
      ]
     },
     "execution_count": 17,
     "metadata": {},
     "output_type": "execute_result"
    }
   ],
   "source": [
    "#@title\n",
    "from IPython.display import Image\n",
    "print(\"The MNIST dataset\")\n",
    "Image(url='https://miro.medium.com/max/720/1*O35lwO5O4sK0_9GuE5aG0A.png')"
   ]
  },
  {
   "cell_type": "markdown",
   "id": "8m1LxjbT33KA",
   "metadata": {
    "id": "8m1LxjbT33KA"
   },
   "source": [
    "#### Daten"
   ]
  },
  {
   "cell_type": "markdown",
   "id": "eBiM74uAAYBM",
   "metadata": {
    "id": "eBiM74uAAYBM"
   },
   "source": [
    "Wir werden die Daten zunächst herunterladen und verarbeiten"
   ]
  },
  {
   "cell_type": "code",
   "execution_count": null,
   "id": "vJGSaK3xKBlH",
   "metadata": {
    "id": "vJGSaK3xKBlH"
   },
   "outputs": [],
   "source": [
    "from sklearn.datasets import fetch_openml\n",
    "from keras.utils.np_utils import to_categorical\n",
    "import numpy as np\n",
    "from tqdm import tqdm"
   ]
  },
  {
   "cell_type": "markdown",
   "id": "MiodCVUsyTFi",
   "metadata": {
    "id": "MiodCVUsyTFi"
   },
   "source": [
    "Führe die folgende Zelle aus. Das wird ein paar Minuten dauern."
   ]
  },
  {
   "cell_type": "code",
   "execution_count": null,
   "id": "WtmkPgdPKQjo",
   "metadata": {
    "id": "WtmkPgdPKQjo"
   },
   "outputs": [],
   "source": [
    "x, y = fetch_openml('mnist_784', version=1, return_X_y=True)\n",
    "x = (x/255).astype('float32').to_numpy()\n",
    "y = to_categorical(y)"
   ]
  },
  {
   "cell_type": "markdown",
   "id": "KPFXQbDEAYFB",
   "metadata": {
    "id": "KPFXQbDEAYFB"
   },
   "source": [
    "Was haben wir hier gerade getan? Wir haben die Daten aus einem Online-Paket heruntergeladen. Der Datensatz, den wir heruntergeladen haben, heißt \"*MNIST*\" und enthält Bilder von handgeschriebenen Ziffern und deren Beschriftungen. Wir speichern die Bilder in der Variablen `x` und ihre Beschriftungen in der Variablen `y`. Außerdem haben wir die Eingabe `x` und die Ausgabe `y` in den beiden folgenden Zeilen in die richtige Form gebracht (Du musst die Details hier nicht verstehen). Lass uns `x` und `y` kurz ausdrucken, damit du sehen kannst, wie sie aussehen."
   ]
  },
  {
   "cell_type": "code",
   "execution_count": null,
   "id": "Diu-zxMJLJy8",
   "metadata": {
    "id": "Diu-zxMJLJy8"
   },
   "outputs": [],
   "source": [
    "print(x)\n",
    "print(\"Shape: \", x.shape)"
   ]
  },
  {
   "cell_type": "code",
   "execution_count": null,
   "id": "pYHzcQuayiir",
   "metadata": {
    "id": "pYHzcQuayiir"
   },
   "outputs": [],
   "source": [
    "from matplotlib import pyplot as plt\n",
    "print(\"The first image of the dataset\")\n",
    "plt.imshow(x[0].reshape(28,28), cmap='Greys')\n",
    "plt.show()"
   ]
  },
  {
   "cell_type": "markdown",
   "id": "z-ClIWxtzRbB",
   "metadata": {
    "id": "z-ClIWxtzRbB"
   },
   "source": [
    "Insgesamt haben wir 70.000 Bilder von handgeschriebenen Ziffern und ihren Beschriftungen. Jedes Bild hat 28x28 Pixel und ist flachgelegt. (Flachgelegt bedeutet, dass wir alle Pixelwerte eines Bildes in eine Liste statt in eine Liste von Listen packen. Für ein Bild haben wir also eine Liste mit insgesamt $28*28=784$ Pixeln.)"
   ]
  },
  {
   "cell_type": "code",
   "execution_count": null,
   "id": "Blt4MOnCLKCb",
   "metadata": {
    "id": "Blt4MOnCLKCb"
   },
   "outputs": [],
   "source": [
    "print(y)\n",
    "print(\"Shape: \", y.shape)"
   ]
  },
  {
   "cell_type": "code",
   "execution_count": null,
   "id": "kW-TzKNfy6Na",
   "metadata": {
    "id": "kW-TzKNfy6Na"
   },
   "outputs": [],
   "source": [
    "print(\"The first label of the dataset\")\n",
    "print(y[0])"
   ]
  },
  {
   "cell_type": "markdown",
   "id": "vYJD7JfvAYIQ",
   "metadata": {
    "id": "vYJD7JfvAYIQ"
   },
   "source": [
    "Jedes Label ist eine Liste von 10 Werten. Von 0 bis 9 zählend, ist das $i$-te Element in der Liste gleich 1, wenn die Beschriftung gleich $i$ ist, und sonst gleich 0. Wenn die Beschriftung des Bildes zum Beispiel 2 sein soll, dann ist dieses Array `[0, 0, 1, 0, 0, 0, 0, 0, 0, 0, 0]`."
   ]
  },
  {
   "cell_type": "markdown",
   "id": "pt2ko-Eg36aK",
   "metadata": {
    "id": "pt2ko-Eg36aK"
   },
   "source": [
    "#### Neuronales Netz"
   ]
  },
  {
   "cell_type": "markdown",
   "id": "VZcqqybFZz1J",
   "metadata": {
    "id": "VZcqqybFZz1J"
   },
   "source": [
    "Als Nächstes werden wir dir zeigen, wie du ein einfaches neuronales Netz aufbauen kannst. Wir zeigen dir die Grundlagen des Aufbaus eines neuronalen Netzes. Wir zeigen dir die Struktur des Modells und wie du dieses Modell optimieren oder trainieren kannst."
   ]
  },
  {
   "cell_type": "markdown",
   "id": "61mz4UsPaBwH",
   "metadata": {
    "id": "61mz4UsPaBwH"
   },
   "source": [
    "Bevor du dich den nachstehenden Code ansiehst, solltest du wissen, dass ein neuronales Netz nichts Magisches ist. Ein neuronales Netz wird lediglich durch eine Liste von Zahlen definiert, die *Gewichte* genannt werden (zur Erinnerung: Gewichte sind einfach Listen von Listen von Zahlen). Die Gewichte sind die *Parameter* des neuronalen Netzwerkmodells und sie definieren ein neuronales Netzwerkmodell wie folgt:\n",
    "\n",
    "1.   Die *Anzahl* der Gewichte bestimmt die tatsächliche Größe des Modells und damit seine Leistungsfähigkeit.\n",
    "2.   Die *Struktur* der Gewichte bestimmt, welche Daten Sie laden können und damit auch, wie leistungsfähig das Modell ist.\n",
    "3.   Der *Wert* der Gewichte bestimmt die Beziehung zwischen der Eingabe (hier: Bild) und der Ausgabe (hier: Beschriftung). Unser Ziel ist es also, die Gewichte zu finden, die die Beziehung zwischen Eingabe und Ausgabe am besten beschreiben.\n",
    "\n"
   ]
  },
  {
   "cell_type": "code",
   "execution_count": null,
   "id": "vO0rjDXN4L3O",
   "metadata": {
    "id": "vO0rjDXN4L3O"
   },
   "outputs": [],
   "source": [
    "from scipy.special import softmax\n",
    "from sklearn.metrics import log_loss\n",
    "\n",
    "class MyFirstNeuralNetwork:\n",
    "    def __init__(self):\n",
    "        self.weights = np.random.randn(784, 10) # Hier definieren wir die Gewichte des neuronalen Netzes\n",
    "        self.learning_rate = 1e-3\n",
    "\n",
    "    def forward(self, x):\n",
    "        # Hier wird ein Bild durch das Netz geschickt, um die vorhergesagte Beschriftung zu berechnen\n",
    "        y_pred = softmax(x @ self.weights)\n",
    "        return y_pred\n",
    "\n",
    "    def loss(self, y, y_pred):\n",
    "        # Die Differenz zwischen der wahrer Beschriftung und der vorhergesagter Beschriftung\n",
    "        return log_loss(y, y_pred)\n",
    "\n",
    "    def update_weights(self, x, y, y_pred):\n",
    "        # Gradient descent Algorithmus\n",
    "        # Aktualisierung der Gewichte proportional zum der Ableitung des Verlustes \"loss\"\n",
    "        error = y - y_pred\n",
    "        grad = x.T @ error\n",
    "        self.weights -= self.learning_rate * grad"
   ]
  },
  {
   "cell_type": "code",
   "execution_count": null,
   "id": "M9TqDlfDkQWB",
   "metadata": {
    "id": "M9TqDlfDkQWB"
   },
   "outputs": [],
   "source": [
    "batch_size = 1000 # wie viele Bilder wir in einem Schritt durch das Netz leiten\n",
    "epochs = 100 # wie oft wir den ganzen Datensatz durch das Netz schicken, um die Gewichte anzupassen\n",
    "\n",
    "loss = np.zeros(epochs) # um die Differenz zwischen der wahrer Beschriftung und der vorhergesagter Beschriftung zu verfolgen\n",
    "model = MyFirstNeuralNetwork() # wir erstellen unser neuronales Netz\n",
    "\n",
    "print(\"Training des neuronalen Netzes...\")\n",
    "for e in tqdm(range(epochs)): # wir iterieren \"epochs\" Mahl über den gesamten Datensatz\n",
    "\n",
    "    epoch_loss = []\n",
    "\n",
    "    for i in range(0, len(x), batch_size): # wir iterieren stapelweise über den Datensatz\n",
    "        \n",
    "        # wir leiten den Datenstapel (batch) über das Netz weiter\n",
    "        y_pred = model.forward(x[i:i+batch_size])\n",
    "        \n",
    "        # wir berechnen die Differenz zwischen der vorhergesagter und der wahrer Beschriftung\n",
    "        epoch_loss.append(model.loss(y[i:i+batch_size], y_pred))\n",
    "        \n",
    "        # wir aktualisieren die Gewichte des Netzes anhand des Verlustes\n",
    "        model.update_weights(x[i:i+batch_size], y[i:i+batch_size], y_pred)\n",
    "\n",
    "    # wir berechnen den mittleren Verlust über den gesamten Datensatz\n",
    "    loss[e] = np.mean(epoch_loss)"
   ]
  },
  {
   "cell_type": "markdown",
   "id": "cW965ih0NlwQ",
   "metadata": {
    "id": "cW965ih0NlwQ"
   },
   "source": [
    "Lass uns analysieren, was wir hier gerade getan haben. Zunächst werden wir einige Variablen in den obigen Codeblöcken erklären.\n",
    "\n",
    "\n",
    "| parameter | explanation |\n",
    "| :-------- | :---------- |\n",
    "| `weights` | die Parameter des Modells, die das Verhältnis zwischen Input und Output bestimmen |\n",
    "| `forward` | berechne bei einem Eingangsbild die vorausgesagte Ausgabe anhand der aktuellen Gewichte des neuronalen Netzes |\n",
    "| `y_pred`  | die vorhergesagten Beschriftungen für die Eingabebilder |\n",
    "| `y`       | die wahren Beschriftungen für die Eingabebilder |\n",
    "| `loss`    | eine Funktion, die den Unterschied zwischen der wahrer Beschriftung und der vorhergesagter Beschriftung quantifiziert |\n",
    "| `update_weights` | aktualisiere die Gewichte auf der Grundlage der Bild- und Beschriftungsbeispiele, die das Netz gesehen hat |\n",
    "| `learning_rate` | wie groß (proportional) der Schritt ist, der bei der Aktualisierung der Gewichte zu machen ist |\n",
    "| `batch_size` | wie viele Bilder in einem Schritt über das Netz weitergeleitet werden sollen |\n",
    "| `epochs` | wie oft der gesamte Datensatz über das Netz weitergeleitet werden soll |\n"
   ]
  },
  {
   "cell_type": "markdown",
   "id": "jQ13ASKiSceQ",
   "metadata": {
    "id": "jQ13ASKiSceQ"
   },
   "source": [
    "Was wir oben tun, ist Folgendes. Jedes Mal, wenn wir Daten über das Netzwerk weiterleiten, führen wir drei Schritte durch:\n",
    "\n",
    "1.   `forward`: Wir berechnen die vorhergesagten Beschriftungen anhand der aktuellen Gewichte des Netzes.\n",
    "2.   `loss`: Wir berechnen die Differenz zwischen den vorhergesagten Beschriftungen und den wahren Beschriftungen der Daten.\n",
    "3.   `update_weights`: Wir aktualisieren die Gewichte anhand der Differenz zwischen vorhergesagter und wahrer Beschriftung."
   ]
  },
  {
   "cell_type": "markdown",
   "id": "m4a09oTYUJmW",
   "metadata": {
    "id": "m4a09oTYUJmW"
   },
   "source": [
    "In den beiden `for`-loops durchlaufen wir den Datensatz und geben dem neuronalen Netz weitere Bildbeispiele und ihre jeweiligen Bezeichnungen. Auf diese Weise können wir die Gewichte mit mehr Informationen über die Beziehung zwischen Bildern und Bezeichnungen aktualisieren."
   ]
  },
  {
   "cell_type": "markdown",
   "id": "d3pNfDgWcQPt",
   "metadata": {
    "id": "d3pNfDgWcQPt"
   },
   "source": [
    "Wir können sehen, wie der Verlust nach jeder Epoche des \"Trainings\" des neuronalen Netzes abnimmt."
   ]
  },
  {
   "cell_type": "code",
   "execution_count": null,
   "id": "8HdekvdHcdZC",
   "metadata": {
    "id": "8HdekvdHcdZC"
   },
   "outputs": [],
   "source": [
    "from matplotlib import pyplot as plt \n",
    "\n",
    "plt.plot(loss)\n",
    "plt.xlabel('epoch')\n",
    "plt.ylabel('loss')\n",
    "plt.show()"
   ]
  },
  {
   "cell_type": "markdown",
   "id": "k18rQDlmTbm7",
   "metadata": {
    "id": "k18rQDlmTbm7"
   },
   "source": [
    "Es ist wichtig zu verstehen, dass alle drei Schritte nur Mathematik sind. Wir wollen nicht, dass du die genauen Details der Mathematik verstehst (das ist eher ein Informatikstudium). Du sollst jedoch erkennen, dass es sich hier nur um Mathematik handelt. Wir multiplizieren Listen von Listen von Zahlen miteinander, mit dem Endziel, die beste Liste von Listen zu finden, die die Daten beschreiben."
   ]
  },
  {
   "cell_type": "code",
   "execution_count": null,
   "id": "YZfYWs_vaKOU",
   "metadata": {
    "cellView": "form",
    "colab": {
     "base_uri": "https://localhost:8080/",
     "height": 257
    },
    "id": "YZfYWs_vaKOU",
    "outputId": "00ae19c2-e27d-4108-a357-2c4b3de58f63"
   },
   "outputs": [
    {
     "data": {
      "text/html": [
       "<iframe src=\"https://giphy.com/embed/BmmfETghGOPrW\" width=\"480\" height=\"206\" frameBorder=\"0\" class=\"giphy-embed\" allowFullScreen></iframe><p><a href=\"https://giphy.com/gifs/reaction-BmmfETghGOPrW\">via GIPHY</a></p>"
      ],
      "text/plain": [
       "<IPython.core.display.HTML object>"
      ]
     },
     "execution_count": 43,
     "metadata": {},
     "output_type": "execute_result"
    }
   ],
   "source": [
    "#@title\n",
    "from IPython.display import HTML\n",
    "HTML('<iframe src=\"https://giphy.com/embed/BmmfETghGOPrW\" width=\"480\" height=\"206\" frameBorder=\"0\" class=\"giphy-embed\" allowFullScreen></iframe><p><a href=\"https://giphy.com/gifs/reaction-BmmfETghGOPrW\">via GIPHY</a></p>')"
   ]
  },
  {
   "cell_type": "markdown",
   "id": "DTv2l9FVjt8C",
   "metadata": {
    "id": "DTv2l9FVjt8C"
   },
   "source": [
    "#### Für die Experten"
   ]
  },
  {
   "cell_type": "markdown",
   "id": "EAZ6Ek7ATzPA",
   "metadata": {
    "id": "EAZ6Ek7ATzPA"
   },
   "source": [
    "Wenn das hieroben für dich leicht zu verstehen war, kannst du den folgenden Text gerne weiter lesen. Andernfalls empfehlen wir dir, die nächsten Abschnitte zu überspringen.\n",
    "\n",
    "Was geschah also tatsächlich in den Funktionen, den drei Schritten, oben? \n",
    "\n",
    "In der Funktion `forward`, berechnen wir die vorhergesagten Beschriftungen `y_pred` (in der Formel unten $\\hat{y}$), gegeben die Gewichte `weights` (in der Formel $w$) und die Eingabebilder `x` (in der Formel $x$) mit der folgenden Formel:\n",
    "\n",
    "$$ \\hat{y} = \\sigma \\left( w^\\top \\cdot x \\right) $$\n",
    "\n",
    "Die `softmax`-Funktion $\\sigma$ wird aus mathematischen Gründen benötigt (wir gehen hier nicht weiter darauf ein) und ist definiert als $$\\sigma(z)_j = \\frac{e^{z_j}}{\\sum_k e^{z_k}} $$.\n",
    "\n",
    "In der Funktion `loss` (in der Formel $\\mathcal{L}$) berechnen wir die Differenz zwischen den wahren Beschriftungen `y` (in der Formel $y$) und den vorhergesagten Beschriftungen `y_pred` (in der Formel $\\hat{y}$). Dazu verwenden wir eine \"loss-Funktion\" mit der Bezeichnung *categorical cross-entropy* (auch bekannt als `log_loss`), die wie folgt definiert ist:\n",
    "\n",
    "$$ \\mathcal{L} (y, \\hat{y}) = - (y \\log({\\hat{y}}) + (1-y)\\log({1-\\hat{y}}))$$\n",
    "\n",
    "Diese Funktion wird typischerweise in neuronalen Netzen für die Art von Aufgaben verwendet, die wir hier zu lösen versuchen, nämlich *Klassifizierungsprobleme*. \n",
    "\n",
    "Mit der Funktion `update_weights` aktualisieren wir die Gewichte des Netzes unter Berücksichtigung des oben berechneten Verlustes. In der Tat werden die Gewichte proportional zur Ableitung der Verlustfunktion aktualisiert. Dieser Algorithmus wird *gradient descent* genannt. Es gibt viele andere Methoden, um die besten Gewichte der Netze zu finden, dies ist eine der einfacheren. "
   ]
  },
  {
   "cell_type": "code",
   "execution_count": null,
   "id": "XP6H_ihNbGYx",
   "metadata": {
    "cellView": "form",
    "colab": {
     "base_uri": "https://localhost:8080/",
     "height": 410
    },
    "id": "XP6H_ihNbGYx",
    "outputId": "f9d309a2-0ae5-408e-e392-9954f0dbb0bc"
   },
   "outputs": [
    {
     "data": {
      "text/html": [
       "<img src=\"https://miro.medium.com/max/720/1*Mi63W9thPnat0EIRoqWR9Q.png\"/>"
      ],
      "text/plain": [
       "<IPython.core.display.Image object>"
      ]
     },
     "execution_count": 44,
     "metadata": {},
     "output_type": "execute_result"
    }
   ],
   "source": [
    "#@title\n",
    "from IPython.display import Image\n",
    "Image(url='https://miro.medium.com/max/720/1*Mi63W9thPnat0EIRoqWR9Q.png')"
   ]
  },
  {
   "cell_type": "markdown",
   "id": "OaX_0AFR5DaX",
   "metadata": {
    "id": "OaX_0AFR5DaX"
   },
   "source": [
    "Wenn mann eine Abbildung mit den Gewichten auf der x-Achse und der Verlustfunktion auf der y-Achse erstellt, ist das Ziel um die Gewichte zu finden, die dem Minimum der Verlustfunktion entsprechen. Beim gradient descent aktualisiert mann die Gewichte des Netzes proportional zur Ableitung der Verlustfunktion. \n",
    "\n",
    "$$w_{\\text{new}} = w_{\\text{old}} - \\eta \\frac{d\\mathcal{L}}{dw}$$\n",
    "\n",
    "Der `learning_rate` ist $\\eta$ in der Formel. Da $w$ in der Regel eine Matrix ist (also eine Liste von Listen von Zahlen), ist die Ableitung leider nicht so einfach. Es ist jedoch nur wichtig, dass du das Konzept des Algorithmus verstehst.\n",
    "\n",
    "Wenn du es geschafft hast, das bis hierher zu verstehen, dann Hut ab vor dir, Einstein! Das ist wirklich eine beeindruckende Arbeit hier. "
   ]
  },
  {
   "cell_type": "markdown",
   "id": "-97DLnlf5wtW",
   "metadata": {
    "id": "-97DLnlf5wtW"
   },
   "source": [
    "### Einfache Implementierung eines neuronalen Netzes"
   ]
  },
  {
   "cell_type": "markdown",
   "id": "g7yMiliZ5wxP",
   "metadata": {
    "id": "g7yMiliZ5wxP"
   },
   "source": [
    "Wir werden dir nun zeigen, wie du auf einfache Weise ein neuronales Netzwerk mit Bibliotheken implementieren kannst, die du die meiste Arbeit abnehmen. Die Bibliothek, die wir verwenden werden, heißt Tensorflow. Wir werden auch ein paar andere Erweiterungen zu dem hinzufügen, was wir vorher gemacht haben.. Wir werden Schritt für Schritt erklären, worum es sich dabei handelt."
   ]
  },
  {
   "cell_type": "markdown",
   "id": "vFYx3hfk7T_J",
   "metadata": {
    "id": "vFYx3hfk7T_J"
   },
   "source": [
    "#### Trainings- und Testdatensatz"
   ]
  },
  {
   "cell_type": "markdown",
   "id": "tzXr7W3V69q6",
   "metadata": {
    "id": "tzXr7W3V69q6"
   },
   "source": [
    "Zuerst laden wir die Daten. Wir laden die Daten aus der Tensorflow-Bibliothek."
   ]
  },
  {
   "cell_type": "code",
   "execution_count": 1,
   "id": "iO0c-muJ6pI6",
   "metadata": {
    "id": "iO0c-muJ6pI6"
   },
   "outputs": [],
   "source": [
    "import numpy as np\n",
    "import tensorflow as tf\n",
    "(x_train, y_train), (x_test, y_test) = tf.keras.datasets.mnist.load_data()"
   ]
  },
  {
   "cell_type": "markdown",
   "id": "4kObgNJc7YBX",
   "metadata": {
    "id": "4kObgNJc7YBX"
   },
   "source": [
    "Beachte, dass in Tensorflow unser Datensatz in zwei Hälften aufgeteilt ist: ein Trainingsset und ein Testset. Warum ist dies der Fall, wirst du dich fragen? In der künstlichen Intelligenz will mann das Modell trainieren, aber gleichzeitig ist es wichtig, dass das Modell auch auf ungesehenen Daten gut funktioniert. Wenn wir unserem Modell immer dieselben Daten vorlegen, wird es die genauen Details dieses Datensatzes lernen und bei Daten, die es noch nie gesehen hat, nicht so gut funktionieren. \n",
    "\n",
    "Wir können das an einem einfachen Beispiel veranschaulichen. Im wirklichen Leben ist es etwas komplexer, aber das soll nur zum Verständnis dienen. Wenn du zum Beispiel deinem neuronalen Netz während des Trainingsprozesses Bilder von einer Katze und einem Hund gibst, dann wird es dieselben Katzen und Hunde so oft sehen, dass es vielleicht nur noch auf irrelevante Details in den Bildern dieser Katzen und Hunde achten wird. Zum Beispiel wird das Modell sagen, \n",
    "\n",
    "> \"Wenn ich etwas sehe mit Augen, einer Nase und spitzen Ohren, 4 Pfoten, einem Schwanz, einer roten Farbe, aber dann auch genau 23 Schnurrhaare, Streifen an bestimmten Stellen, immer auf einer blauen Couch, dann ist es eine Katze. Und wenn ich etwas mit Augen, spitzer Nase, herunterhängenden Ohren, 4 Pfoten, braunem Fell sehe, aber dann auch noch einen Tennisball in der Hand halte und auf einer grünen Wiese laufe, dann ist es ein Hund. Nur unter diesen besonderen Umständen weiß ich, um welches Tier es sich handelt, in allen anderen Fällen weiß ich es nicht.\"\n",
    "\n",
    "Dies ist ein anschauliches Beispiel für das, was wir *Overfitting* nennen. Das Modell lernt die genauen Details der Daten, die es gesehen hat, unabhängig von allen anderen Daten da draußen."
   ]
  },
  {
   "cell_type": "markdown",
   "id": "C9UGndVM-xXJ",
   "metadata": {
    "id": "C9UGndVM-xXJ"
   },
   "source": [
    "Nun fahren wir mit denselben Schritten fort, die wir zuvor mit den Daten durchgeführt haben, aber jetzt mit der Trainings-Eingabe `x_train` und der -Ausgabe `y_train` und der Test-Eingabe `x_test` und der -Ausgabe `y_test`."
   ]
  },
  {
   "cell_type": "code",
   "execution_count": null,
   "id": "6v4zVTaX7WuZ",
   "metadata": {
    "id": "6v4zVTaX7WuZ"
   },
   "outputs": [],
   "source": [
    "x_train = (x_train/255).astype('float32')\n",
    "x_test = (x_test/255).astype('float32')\n",
    "\n",
    "print('Number of images in x_train', x_train.shape[0])\n",
    "print('Number of images in x_test', x_test.shape[0])"
   ]
  },
  {
   "cell_type": "code",
   "execution_count": 3,
   "id": "916b79KS_EGJ",
   "metadata": {
    "id": "916b79KS_EGJ"
   },
   "outputs": [],
   "source": [
    "from keras.utils.np_utils import to_categorical\n",
    "y_train = to_categorical(y_train)\n",
    "y_test = to_categorical(y_test)"
   ]
  },
  {
   "cell_type": "markdown",
   "id": "SjhmilKB_smf",
   "metadata": {
    "id": "SjhmilKB_smf"
   },
   "source": [
    "Jetzt müssen wir unsere Bilder neu formen, da dies eine Anforderung der Tensorflow-Bibliothek ist."
   ]
  },
  {
   "cell_type": "code",
   "execution_count": 5,
   "id": "4-9sBL4y_mIy",
   "metadata": {
    "id": "4-9sBL4y_mIy"
   },
   "outputs": [],
   "source": [
    "x_train = np.expand_dims(x_train, -1)\n",
    "x_test = np.expand_dims(x_test, -1)"
   ]
  },
  {
   "cell_type": "markdown",
   "id": "EgHKbuQuBLY1",
   "metadata": {
    "id": "EgHKbuQuBLY1"
   },
   "source": [
    "Außerdem werden wir hier einige Variablen definieren, die für später nützlich sein können. \n"
   ]
  },
  {
   "cell_type": "code",
   "execution_count": null,
   "id": "ZE2lHEswBKm1",
   "metadata": {
    "id": "ZE2lHEswBKm1"
   },
   "outputs": [],
   "source": [
    "print('Size of the images: ', x_train.shape[1:])"
   ]
  },
  {
   "cell_type": "code",
   "execution_count": 7,
   "id": "5QWeedXtBaua",
   "metadata": {
    "id": "5QWeedXtBaua"
   },
   "outputs": [],
   "source": [
    "input_shape = x_train.shape[1:]"
   ]
  },
  {
   "cell_type": "code",
   "execution_count": null,
   "id": "rkSGwxd4CTx1",
   "metadata": {
    "id": "rkSGwxd4CTx1"
   },
   "outputs": [],
   "source": [
    "print(\"Number of output categories: \", y_train.shape[1])"
   ]
  },
  {
   "cell_type": "code",
   "execution_count": 10,
   "id": "NNMdaYLeCT3u",
   "metadata": {
    "id": "NNMdaYLeCT3u"
   },
   "outputs": [],
   "source": [
    "output_shape = y_train.shape[1]"
   ]
  },
  {
   "cell_type": "markdown",
   "id": "HhnLXWKxALjz",
   "metadata": {
    "id": "HhnLXWKxALjz"
   },
   "source": [
    "#### Verschiedene Arten von Modellen"
   ]
  },
  {
   "cell_type": "markdown",
   "id": "ARpLszcUALuY",
   "metadata": {
    "id": "ARpLszcUALuY"
   },
   "source": [
    "Im nächsten Schritt werden wir unser Modell mit der Tensorflow-Bibliothek erstellen. Wir werden dies ein wenig anders machen als zuvor. Vorher haben wir ein extrem einfaches neuronales Netz verwendet. Die Eingabeschichten waren direkt mit den Ausgabeschichten verbunden. Das Besondere an neuronalen Netzen ist jedoch, dass man viel mehr Schichten (layers) erstellen kann und so eine Art \"Tiefe\" im Netz erzeugt. Außerdem gibt es auch Schichten, die speziell für Bilder gedacht sind. Sie werden als *convolutional* layers bezeichnet und führen spezielle mathematische Berechnungen durch, um die Struktur des Bildes zu verarbeiten."
   ]
  },
  {
   "cell_type": "code",
   "execution_count": 11,
   "id": "tH9twtr6Az6G",
   "metadata": {
    "id": "tH9twtr6Az6G"
   },
   "outputs": [],
   "source": [
    "from tensorflow.keras.models import Sequential\n",
    "from tensorflow.keras.layers import Dense, Conv2D, Dropout, Flatten, MaxPooling2D\n",
    "\n",
    "# We define an empty model and add layers from input to output\n",
    "model = Sequential()\n",
    "\n",
    "# Add a first layer for processing the structure of the image\n",
    "model.add(Conv2D(28, kernel_size=(3,3), input_shape=input_shape))\n",
    "model.add(MaxPooling2D(pool_size=(2, 2)))\n",
    "model.add(Flatten())\n",
    "\n",
    "# Add more \"deep\" layers in the neural network\n",
    "model.add(Dense(128, activation=tf.nn.relu))\n",
    "model.add(Dropout(0.2))\n",
    "\n",
    "# The last layer of the network defining the output\n",
    "model.add(Dense(output_shape, activation=tf.nn.softmax))"
   ]
  },
  {
   "cell_type": "markdown",
   "id": "3oQYUW3pCv76",
   "metadata": {
    "id": "3oQYUW3pCv76"
   },
   "source": [
    "Nachdem wir nun das Modell definiert haben, erstellen wir es im Folgenden."
   ]
  },
  {
   "cell_type": "code",
   "execution_count": 12,
   "id": "D-FxD6t_A0EI",
   "metadata": {
    "id": "D-FxD6t_A0EI"
   },
   "outputs": [],
   "source": [
    "model.compile(optimizer='adam', # the optimization algorithm, similar to gradient descent\n",
    "              loss='categorical_crossentropy', # the loss function\n",
    "              metrics=['accuracy'])"
   ]
  },
  {
   "cell_type": "markdown",
   "id": "bUdokLMkHM5T",
   "metadata": {
    "id": "bUdokLMkHM5T"
   },
   "source": [
    "Schauen wir uns an, was passiert, wenn wir dieses Modell verwenden, um die Bezeichnung eines Bildes vorherzusagen."
   ]
  },
  {
   "cell_type": "code",
   "execution_count": null,
   "id": "zMckkljQIqqX",
   "metadata": {
    "id": "zMckkljQIqqX"
   },
   "outputs": [],
   "source": [
    "from matplotlib import pyplot as plt\n",
    "plt.imshow(x_train[0].squeeze(-1), cmap='Greys')\n",
    "plt.show()"
   ]
  },
  {
   "cell_type": "code",
   "execution_count": null,
   "id": "YENjE3lgHXXx",
   "metadata": {
    "id": "YENjE3lgHXXx"
   },
   "outputs": [],
   "source": [
    "model.predict(np.expand_dims(x_train[0], 0)).argmax(axis=1)"
   ]
  },
  {
   "cell_type": "markdown",
   "id": "J5VcBCoeI-ev",
   "metadata": {
    "id": "J5VcBCoeI-ev"
   },
   "source": [
    "Das sieht nicht wirklich gut aus, oder? Du kannst selbst einige Bilder ausprobieren, indem du die [`0`] in eine andere Zahl änderst."
   ]
  },
  {
   "cell_type": "markdown",
   "id": "rwndyeVHC4sD",
   "metadata": {
    "id": "rwndyeVHC4sD"
   },
   "source": [
    "Im folgenden Schritt werden wir das Modell trainieren mit der `fit` Funktion, damit es bessere Vorhersagen machen kann. Für das Training selbst verwenden wir jedoch nur die Daten aus dem Trainingssatz `x_train` und `y_train`. Der Testsatz wird nur verwendet, um zu beobachten, was passiert, aber das Modell lernt nicht wirklich aus dem Testsatz."
   ]
  },
  {
   "cell_type": "code",
   "execution_count": 16,
   "id": "TKIo3QyPGZbr",
   "metadata": {
    "id": "TKIo3QyPGZbr"
   },
   "outputs": [],
   "source": [
    "epochs=10"
   ]
  },
  {
   "cell_type": "code",
   "execution_count": null,
   "id": "5yXKx-KxA0K8",
   "metadata": {
    "id": "5yXKx-KxA0K8"
   },
   "outputs": [],
   "source": [
    "history = model.fit(x=x_train, y=y_train, validation_data=[x_test, y_test], epochs=epochs)"
   ]
  },
  {
   "cell_type": "markdown",
   "id": "dFqfGPB1DcsZ",
   "metadata": {
    "id": "dFqfGPB1DcsZ"
   },
   "source": [
    "Nach etwa 5 Minuten ist dein Modell mit der Trainingsphase fertig. Hole dich einen schönen Drink oder lese unten weiter."
   ]
  },
  {
   "cell_type": "markdown",
   "id": "A7cl7nchJtz3",
   "metadata": {
    "id": "A7cl7nchJtz3"
   },
   "source": [
    "Mal sehen, ob wir bei der Vorhersage besser geworden sind."
   ]
  },
  {
   "cell_type": "code",
   "execution_count": null,
   "id": "bb8vouGxJw1T",
   "metadata": {
    "id": "bb8vouGxJw1T"
   },
   "outputs": [],
   "source": [
    "plt.imshow(x_train[0].squeeze(-1), cmap='Greys')\n",
    "plt.show()"
   ]
  },
  {
   "cell_type": "code",
   "execution_count": null,
   "id": "FHsZCJPpJzyV",
   "metadata": {
    "id": "FHsZCJPpJzyV"
   },
   "outputs": [],
   "source": [
    "model.predict(np.expand_dims(x_train[0], 0)).argmax(axis=1)"
   ]
  },
  {
   "cell_type": "markdown",
   "id": "J2YEXqYSDZC-",
   "metadata": {
    "id": "J2YEXqYSDZC-"
   },
   "source": [
    "#### Metriken"
   ]
  },
  {
   "cell_type": "markdown",
   "id": "BBxi8MbWDbXj",
   "metadata": {
    "id": "BBxi8MbWDbXj"
   },
   "source": [
    "Nachdem wir nun das Modell trainiert haben, wollen wir sehen, wie gut es auf dem gesamten Datensatz funktioniert. Im obigen Code hast du vielleicht bemerkt, dass wir mit *Metriken* (`metrics`) gearbeitet haben. Metriken sind Funktionen, ähnlich wie die Verlustfunktion, die den Unterschied zwischen den wahren und den vorhergesagten Bezeichnungen quantifizieren. Eine der Metriken, die wir hier verwendet haben, ist die \"Accuracy\". Die Genauigkeit ist das, was du vielleicht denken. Sie ist der Prozentsatz der richtig klassifizierten Bilder geteilt durch die Gesamtzahl der Bilder."
   ]
  },
  {
   "cell_type": "markdown",
   "id": "r9G7OQRLESSj",
   "metadata": {
    "id": "r9G7OQRLESSj"
   },
   "source": [
    "Als wir den Trainings- und Testdatensatz erläuterten, erwähnten wir kurz das Prinzip der *Overfitting*. Ein Blick auf die Metriken für den Trainings- und den Testdatensatz kann uns helfen, eine Overfitting zu verhindern. Wir wollen zum Beispiel kein Modell, das eine sehr hohe Genauigkeit im Trainingsdatensatz hat, aber eine sehr niedrige Genauigkeit im Testdatensatz. Das würde bedeuten, dass das Modell bei ungesehenen Daten nicht gut funktioniert. Wir zeigen dir im Folgenden, wie du das untersuchen kannst."
   ]
  },
  {
   "cell_type": "markdown",
   "id": "jIOrCrHNF7iw",
   "metadata": {
    "id": "jIOrCrHNF7iw"
   },
   "source": [
    "Unten sehen wir den Verlust und die Genauigkeit des Modells auf dem Trainings- und Testdatensatz während des Trainings des Modells. Beachte, dass nur die Daten des Trainingssatzes zum Trainieren des Modells verwendet wurden. Die Daten des Testdatensatzes wurden nur zur Überwachung der Metriken während des Trainings verwendet."
   ]
  },
  {
   "cell_type": "code",
   "execution_count": null,
   "id": "ZL_SyJ3tDPL6",
   "metadata": {
    "id": "ZL_SyJ3tDPL6"
   },
   "outputs": [],
   "source": [
    "history.history"
   ]
  },
  {
   "cell_type": "markdown",
   "id": "ICY2lXrOGL_I",
   "metadata": {
    "id": "ICY2lXrOGL_I"
   },
   "source": [
    "Versuchen wir, das abzubilden."
   ]
  },
  {
   "cell_type": "code",
   "execution_count": null,
   "id": "As9ntXC3DPPC",
   "metadata": {
    "id": "As9ntXC3DPPC"
   },
   "outputs": [],
   "source": [
    "from matplotlib import pyplot as plt\n",
    "plt.plot(np.arange(epochs), history.history['accuracy'], label='train')\n",
    "plt.plot(np.arange(epochs), history.history['accuracy'], label='test')\n",
    "plt.xlabel('epoch')\n",
    "plt.ylabel('accuracy')\n",
    "plt.legend()\n",
    "plt.show()"
   ]
  },
  {
   "cell_type": "markdown",
   "id": "XKfxpW8BGiEV",
   "metadata": {
    "id": "XKfxpW8BGiEV"
   },
   "source": [
    "Was siehst du in dieser Abbildung? Haltest du es für gut?"
   ]
  },
  {
   "cell_type": "markdown",
   "id": "kfsYeeLcE__B",
   "metadata": {
    "id": "kfsYeeLcE__B"
   },
   "source": [
    "### Data Challenges auf kaggle.com"
   ]
  },
  {
   "cell_type": "markdown",
   "id": "a85d0a93",
   "metadata": {
    "id": "a85d0a93"
   },
   "source": [
    "Bei Ki geht es auch viel um so gennante *Benchmarks, Performance, und Accuracy*, diese Worte werden dazu benutzt KI Modele zu objektiv zu bewerten und Menschen einen Eindruck zu geben wie genau und gut ein Model funktioniert. \n",
    "\n",
    "Um euch dazu ein besseres Verständnis zu geben werden wir euch heute die **Fashion MNIST - GCT** Challenge vorstellen. \n",
    "\n",
    "So gennate Data Science Challenges gibt es viele und haben als Ziel Leute von aller Welt zusammen zu bringen, um an Coolen Problemen zu arbeiten. Jede Challenge hat ein Preisgeld für die drei besten Teams. Viele von diese Challenges werde auf Kaggle.com ausgetragen.  \n",
    "\n",
    "Kaggle, eine Tochtergesellschaft von Google, ist eine Online-Gemeinschaft von Datenwissenschaftlern und Fachleuten für maschinelles Lernen. Kaggle ermöglicht es den Nutzern, Datensätze zu finden und zu veröffentlichen, Modelle in einer webbasierten datenwissenschaftlichen Umgebung zu untersuchen und zu erstellen, mit anderen Datenwissenschaftlern und Ingenieuren für maschinelles Lernen zusammenzuarbeiten und an Wettbewerben teilzunehmen, um datenwissenschaftliche Herausforderungen zu lösen.\n",
    "\n",
    "Kaggle begann 2010 mit dem Angebot von Wettbewerben zum maschinellen Lernen und bietet jetzt auch eine öffentliche Datenplattform, eine Cloud-basierte Workbench für die Datenwissenschaft und Schulungen zur künstlichen Intelligenz an. Die wichtigsten Mitarbeiter des Unternehmens waren Anthony Goldbloom und Jeremy Howard. Nicholas Gruen war der Gründungsvorsitzende, gefolgt von Max Levchin. Im Jahr 2011 wurde eine Kapitalerhöhung durchgeführt, bei der das Unternehmen mit 25,2 Millionen Dollar bewertet wurde. Am 8. März 2017 kündigte Google die Übernahme von Kaggle an."
   ]
  },
  {
   "cell_type": "markdown",
   "id": "vs1S8EaKFN-N",
   "metadata": {
    "id": "vs1S8EaKFN-N"
   },
   "source": [
    "**Die heutige Challenge**\n",
    "\n",
    "Heute geht es bei uns um die [**Fashion MNIST - GCT**](https://www.kaggle.com/competitions/fashiongct) Challenge. Ziel der Challenge ist es die beste Performance auf dem Fashion MNIST Datensatz zu erreichen.\n",
    "\n",
    "Fashion-MNIST ist ein Datensatz von Zalando-Artikelbildern - bestehend aus einem Trainingssatz von 60.000 Beispielen und einem Testsatz von 10.000 Beispielen. Jedes Beispiel ist ein 28x28-Graustufenbild, das mit einem Label aus 10 Klassen verknüpft ist. Die Klassen sind: \n",
    "\n",
    "- 0 T-shirt/Oberteil\n",
    "- 1 Hose\n",
    "- 2 Pullover\n",
    "- 3 Kleid\n",
    "- 4 Mantel\n",
    "- 5 Sandale\n",
    "- 6 Hemd\n",
    "- 7 Turnschuh\n",
    "- 8 Tasche\n",
    "- 9 Stiefelette\n",
    "\n",
    "Zalando beabsichtigt, Fashion-MNIST als direkten Ersatz für den ursprünglichen MNIST-Datensatz zum Benchmarking von Algorithmen für maschinelles Lernen zu verwenden. Er hat die gleiche Bildgröße und Struktur der Trainings- und Test-Splits.\n",
    "\n",
    "Der ursprüngliche MNIST-Datensatz enthält viele handgeschriebene Ziffern. Mitglieder der AI/ML/Data Science-Gemeinschaft lieben diesen Datensatz und verwenden ihn als Benchmark, um ihre Algorithmen zu validieren. In der Tat ist MNIST oft der erste Datensatz, den Forscher ausprobieren. \"Wenn es auf MNIST nicht funktioniert, funktioniert es überhaupt nicht\", heißt es. \"Wenn es auf MNIST funktioniert, kann es auf anderen Datensätzen immer noch scheitern.\"\n",
    "\n",
    "Um mit der Challenge anzufangen, öffnet bitte [diesem Link](https://www.kaggle.com/competitions/fashiongct). "
   ]
  },
  {
   "cell_type": "markdown",
   "id": "740b15d3",
   "metadata": {
    "id": "740b15d3"
   },
   "source": [
    "# Et voilà! Ihr habt es geschafft! "
   ]
  },
  {
   "cell_type": "markdown",
   "id": "invalid-thomas",
   "metadata": {
    "id": "invalid-thomas"
   },
   "source": [
    "# Weitere Beispiele\n",
    "\n",
    "Falls ihr noch nicht genug habt, könnte ihr auch gerne hier malreinschauen: \n",
    "\n",
    "- https://medium.com/@hannalee/art-creator-25fda3c35d8b\n",
    "- https://medium.com/@ecyy/tensorflow-hub-create-an-artistic-picture-by-a-ml-app-e21308c7db1b\n",
    "\n",
    "Viel Spass und vielen Dank, dass ihr bis zum Ende alles gegeben habt! "
   ]
  }
 ],
 "metadata": {
  "colab": {
   "include_colab_link": true,
   "provenance": []
  },
  "kernelspec": {
   "display_name": "Python 3.9.12 ('resmonics-m1')",
   "language": "python",
   "name": "python3"
  },
  "language_info": {
   "codemirror_mode": {
    "name": "ipython",
    "version": 3
   },
   "file_extension": ".py",
   "mimetype": "text/x-python",
   "name": "python",
   "nbconvert_exporter": "python",
   "pygments_lexer": "ipython3",
   "version": "3.9.15"
  },
  "vscode": {
   "interpreter": {
    "hash": "38361a3b49dff0a52d2edbe04f3e177675ef5f5705c3091b57b0e03ef8849bb6"
   }
  }
 },
 "nbformat": 4,
 "nbformat_minor": 5
}
