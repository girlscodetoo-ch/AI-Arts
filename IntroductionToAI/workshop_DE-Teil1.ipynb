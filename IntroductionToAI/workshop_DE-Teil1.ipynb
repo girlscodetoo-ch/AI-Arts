{
  "cells": [
    {
      "cell_type": "markdown",
      "metadata": {
        "id": "view-in-github",
        "colab_type": "text"
      },
      "source": [
        "<a href=\"https://colab.research.google.com/github/girlscodetoo-ch/AI-Arts/blob/AI_Arts_IngCh_Einsiedeln_12052025/IntroductionToAI/workshop_DE-Teil1.ipynb\" target=\"_parent\"><img src=\"https://colab.research.google.com/assets/colab-badge.svg\" alt=\"Open In Colab\"/></a>"
      ]
    },
    {
      "cell_type": "markdown",
      "id": "coated-cambridge",
      "metadata": {
        "id": "coated-cambridge"
      },
      "source": [
        "# Einsiedeln Workshop - Künstliche Intelligenz und Kunst - Teil 1"
      ]
    },
    {
      "cell_type": "markdown",
      "id": "asian-psychology",
      "metadata": {
        "id": "asian-psychology"
      },
      "source": [
        "Willkommen zum Kunst & Künstliche Intelligenz Workshop. In diesem so genannten _Notebook_ wirst du eine kurze Einführung in die Programmiersprache `Python` bekommen, wirst du erfahren, wie ein Computer Bilder sieht und lernen, wie man mit Künstlicher Intelligenz Kunst schaffen kann. Lasst uns loslegen!"
      ]
    },
    {
      "cell_type": "markdown",
      "id": "64b8156e",
      "metadata": {
        "id": "64b8156e"
      },
      "source": [
        "**Was ist Google Colab? Warum ist es nützlich?**\n",
        "\n",
        "Google Colab ist eine interaktive Website von Google, die zum Üben und Entwickeln von Programmiercode erstellt wurde. Du kannst Google Colab mit vielen Programmiersprachen wie `Python`, `R` und `MATLAB` verwenden. Die Programmiersprache in diesem Notebook ist `Python`.\n",
        "\n",
        "**Was ist eigentlich eine Programmiersprache und wofür wird sie verwendet?**\n",
        "\n",
        "Programmiersprachen werden verwendet, um einem Computer Anweisungen zu geben, bestimmte Dinge zu tun. Mit einer Programmiersprache kann man einen Computer anweisen, Dinge zu berechnen, Dateien zu lesen, Websites aufzurufen, Software auszuführen usw. Wir werden anfangen den Computer einfache Dinge tun zu lassen, und werden dann mit komplizierten Aufgaben wie dem Aufbau einer KI fortfahren."
      ]
    },
    {
      "cell_type": "markdown",
      "id": "veterinary-forestry",
      "metadata": {
        "id": "veterinary-forestry"
      },
      "source": [
        "## **Teil I** - Einführung zu Python"
      ]
    },
    {
      "cell_type": "markdown",
      "id": "erh2Hqn4S5dZ",
      "metadata": {
        "id": "erh2Hqn4S5dZ"
      },
      "source": [
        "![](https://raw.githubusercontent.com/girlscodetoo-ch/AI-Arts/main/IntroductionToAI/images/python.png)"
      ]
    },
    {
      "cell_type": "markdown",
      "id": "outdoor-franchise",
      "metadata": {
        "id": "outdoor-franchise"
      },
      "source": [
        "### Google Colab"
      ]
    },
    {
      "cell_type": "markdown",
      "id": "brazilian-tampa",
      "metadata": {
        "id": "brazilian-tampa"
      },
      "source": [
        "Hier geben wir dir eine kurze Einführung zu Python und Google Colab, damit du verstehen wirst, was in den nächsten Schritten vor sich geht.\n",
        "\n",
        "Wir werden mit einem einfachen Beispiel beginnen. Darunter siehst du einen Block mit *Code*. Du kannst diesen Code ausführen, indem du ``ctrl + enter`` drückst. Wenn du ihn ausführst, wird unter dem Codeblock ein Text erscheinen, vor dem du ``[1]`` siehst. Achte darauf, dass du alle Codeblöcke in diesem Code ausführst, sonst könntest du eine *Fehlermeldung* erhalten."
      ]
    },
    {
      "cell_type": "code",
      "execution_count": null,
      "id": "engaging-nepal",
      "metadata": {
        "id": "engaging-nepal"
      },
      "outputs": [],
      "source": [
        "print(\"Hello world\")"
      ]
    },
    {
      "cell_type": "markdown",
      "id": "searching-acquisition",
      "metadata": {
        "id": "searching-acquisition"
      },
      "source": [
        "Wenn du die obigen Codeblock korrekt ausgeführt, siehst du `Hello world` unterhalb des Codeblocks. `print()` ist eine _Funktion_ in Python, die zum Drucken auf der Konsole verwendet werden kann."
      ]
    },
    {
      "cell_type": "markdown",
      "id": "gothic-military",
      "metadata": {
        "id": "gothic-military"
      },
      "source": [
        "**Übung 1** Jetzt liegt es an dir! Versuche, deinen Namen in den unten stehenden Codeblock zu schreiben."
      ]
    },
    {
      "cell_type": "code",
      "execution_count": null,
      "id": "automated-carnival",
      "metadata": {
        "id": "automated-carnival"
      },
      "outputs": [],
      "source": []
    },
    {
      "cell_type": "markdown",
      "id": "smaller-front",
      "metadata": {
        "id": "smaller-front"
      },
      "source": [
        "Ein toller Anfang! Du hast dem Computer gerade gesagt, dass er deinen Namen auf den Bildschirm schreiben soll. Wenn du noch ein wenig üben möchtest, kannst du weitere Zellen erstellen, indem du die Taste ``+ Code`` am oberen Rand deines Bildschirms benutzt."
      ]
    },
    {
      "cell_type": "markdown",
      "id": "mNhGK7CRVMWZ",
      "metadata": {
        "id": "mNhGK7CRVMWZ"
      },
      "source": [
        "![](https://raw.githubusercontent.com/girlscodetoo-ch/AI-Arts/main/IntroductionToAI/images/add_cell2.png)"
      ]
    },
    {
      "cell_type": "markdown",
      "id": "simplified-player",
      "metadata": {
        "id": "simplified-player"
      },
      "source": [
        "### Berechnungen"
      ]
    },
    {
      "cell_type": "markdown",
      "id": "fixed-census",
      "metadata": {
        "id": "fixed-census"
      },
      "source": [
        "Jetzt gehen wir noch ein bisschen weiter. Du kannst dem Computer auch sagen, dass er Berechnungen für dich durchführen soll. Zum Beispiel (Führe den Codeblock darunter selbst aus, und du wirst eine Zahl darunter sehen):"
      ]
    },
    {
      "cell_type": "code",
      "execution_count": null,
      "id": "material-complex",
      "metadata": {
        "id": "material-complex"
      },
      "outputs": [],
      "source": [
        "1+2"
      ]
    },
    {
      "cell_type": "markdown",
      "id": "distant-porter",
      "metadata": {
        "id": "distant-porter"
      },
      "source": [
        "Oder ein anderes Beispiel:"
      ]
    },
    {
      "cell_type": "code",
      "execution_count": null,
      "id": "nominated-affect",
      "metadata": {
        "id": "nominated-affect",
        "scrolled": true
      },
      "outputs": [],
      "source": [
        "8*9"
      ]
    },
    {
      "cell_type": "markdown",
      "id": "graduate-crest",
      "metadata": {
        "id": "graduate-crest"
      },
      "source": [
        "**Übung 2** Jetzt liegt es an dir. Beweis allen, dass du diese komplizierte Summe rechnen kannst. 12345 * 6789 = ?"
      ]
    },
    {
      "cell_type": "code",
      "execution_count": null,
      "id": "employed-placement",
      "metadata": {
        "id": "employed-placement"
      },
      "outputs": [],
      "source": []
    },
    {
      "cell_type": "markdown",
      "id": "facial-vegetation",
      "metadata": {
        "id": "facial-vegetation"
      },
      "source": [
        "### Variabelen"
      ]
    },
    {
      "cell_type": "markdown",
      "id": "greater-sussex",
      "metadata": {
        "id": "greater-sussex"
      },
      "source": [
        "Gute Arbeit! Jetzt gehen wir wieder ein Stückchen weiter. Erinnerst du dich daran, dass du im Matheunterricht $x = ...$ berechnen musst? In diesem Fall wird $x$ eine *Variable* genannt. Ähnlich wie in der Mathematik kann man auch dem Computer instruieren, dass er Variablen verwenden soll. Zum Beispiel können wir dem Computer jetzt instruieren, dass $a = 5$ und $b = 10$. Versuche es selbst."
      ]
    },
    {
      "cell_type": "code",
      "execution_count": null,
      "id": "annoying-efficiency",
      "metadata": {
        "id": "annoying-efficiency"
      },
      "outputs": [],
      "source": [
        "a ="
      ]
    },
    {
      "cell_type": "code",
      "execution_count": null,
      "id": "subjective-mortgage",
      "metadata": {
        "id": "subjective-mortgage"
      },
      "outputs": [],
      "source": [
        "b ="
      ]
    },
    {
      "cell_type": "markdown",
      "id": "wireless-trout",
      "metadata": {
        "id": "wireless-trout"
      },
      "source": [
        "Wenn wir nun berechnen wollen, was $b : a$ ist, können wir natürlich auch dem Computer diese Aufteilung machen lassen."
      ]
    },
    {
      "cell_type": "code",
      "execution_count": null,
      "id": "innovative-curtis",
      "metadata": {
        "id": "innovative-curtis"
      },
      "outputs": [],
      "source": [
        "b / a"
      ]
    },
    {
      "cell_type": "markdown",
      "id": "binding-executive",
      "metadata": {
        "id": "binding-executive"
      },
      "source": [
        "Das ist doch nicht so schwierig, oder? 😎"
      ]
    },
    {
      "cell_type": "markdown",
      "id": "artificial-associate",
      "metadata": {
        "id": "artificial-associate"
      },
      "source": [
        "**Übung 3** Jetzt kannst du es selbst versuchen. Erstelle eine Variable $c = 9$ und berechne $a*b : c$"
      ]
    },
    {
      "cell_type": "code",
      "execution_count": null,
      "id": "d06568a6",
      "metadata": {
        "id": "d06568a6"
      },
      "outputs": [],
      "source": []
    },
    {
      "cell_type": "markdown",
      "id": "center-portland",
      "metadata": {
        "id": "center-portland"
      },
      "source": [
        "### Listen/arrays"
      ]
    },
    {
      "cell_type": "markdown",
      "id": "spiritual-grocery",
      "metadata": {
        "id": "spiritual-grocery"
      },
      "source": [
        "Dann noch eine letzte nützliche Sache, die du wissen solltest. In Python kannst du *Listen* oder *Arrays* erstellen. Das sind im Grunde Listen mit Zahlen. Du wirst später sehen, wie nützlich sie sein können. Du kannst eine Liste und ein Array wie folgt erstellen:"
      ]
    },
    {
      "cell_type": "code",
      "execution_count": null,
      "id": "polished-atlas",
      "metadata": {
        "id": "polished-atlas"
      },
      "outputs": [],
      "source": [
        "my_first_list = [0,1,2]\n",
        "my_other_list = [3,4,5]\n",
        "print(\"My first list: \", my_first_list)\n",
        "print(\"My other list: \", my_other_list)"
      ]
    },
    {
      "cell_type": "markdown",
      "id": "velvet-payday",
      "metadata": {
        "id": "velvet-payday"
      },
      "source": [
        "Du kannst alle möglichen nützlichen Dinge mit Listen machen. Zum Beispiel kannst du alle Zahlen in der Liste zusammenzählen.\n",
        "\n",
        "Dies kann man richtig schön altmodisch machen, indem, man jedes Element der Liste zusammenrechnet. Oder man kann es wie bei Excel machen und eine sogenannte Funktion nutzen.\n",
        "\n",
        "Die Funktionen sind in `software packages` enthalten. Ein sehr bekanntes Softwarepaket ist `numpy`. Dies muss man importieren und kann es dann nutzen:"
      ]
    },
    {
      "cell_type": "code",
      "execution_count": null,
      "id": "688a65e2",
      "metadata": {
        "id": "688a65e2"
      },
      "outputs": [],
      "source": [
        "import numpy as np"
      ]
    },
    {
      "cell_type": "markdown",
      "id": "802c6045",
      "metadata": {
        "id": "802c6045"
      },
      "source": [
        "Mehr Infos zu `numpy` gibt es auch hier: https://numpy.org/"
      ]
    },
    {
      "cell_type": "code",
      "execution_count": null,
      "id": "correct-frederick",
      "metadata": {
        "id": "correct-frederick",
        "outputId": "e021ed7c-22e6-4706-ab00-b8a37925dbbd"
      },
      "outputs": [
        {
          "ename": "",
          "evalue": "",
          "output_type": "error",
          "traceback": [
            "\u001b[1;31mRunning cells with 'Python 3.9.13 64-bit' requires ipykernel package.\n",
            "\u001b[1;31mRun the following command to install 'ipykernel' into the Python environment. \n",
            "\u001b[1;31mCommand: '/opt/homebrew/bin/python3 -m pip install ipykernel -U --user --force-reinstall'"
          ]
        }
      ],
      "source": [
        "np.sum(my_first_list)"
      ]
    },
    {
      "cell_type": "markdown",
      "id": "right-material",
      "metadata": {
        "id": "right-material"
      },
      "source": [
        "Oder du kannst sogar zwei Listen multiplizieren"
      ]
    },
    {
      "cell_type": "code",
      "execution_count": null,
      "id": "false-characteristic",
      "metadata": {
        "id": "false-characteristic",
        "scrolled": true
      },
      "outputs": [],
      "source": [
        "np.multiply(my_first_list, my_other_list)"
      ]
    },
    {
      "cell_type": "markdown",
      "id": "timely-burst",
      "metadata": {
        "id": "timely-burst"
      },
      "source": [
        "Wenn du auf das erste Element der Liste zugreifen willst, kannst du das tun, indem du eine Zahl in eckigen Klammern hinter die Liste setzt. Diese Zahl wird als *Index* bezeichnet."
      ]
    },
    {
      "cell_type": "code",
      "execution_count": null,
      "id": "alpha-indonesian",
      "metadata": {
        "id": "alpha-indonesian"
      },
      "outputs": [],
      "source": [
        "my_other_list[0]"
      ]
    },
    {
      "cell_type": "code",
      "execution_count": null,
      "id": "prerequisite-color",
      "metadata": {
        "id": "prerequisite-color"
      },
      "outputs": [],
      "source": [
        "my_other_list[1]"
      ]
    },
    {
      "cell_type": "markdown",
      "id": "hNRRAV9yxYQB",
      "metadata": {
        "id": "hNRRAV9yxYQB"
      },
      "source": [
        "Wenn du eine Zahl oder ein Element in der Liste ändern willst, brauchst du keine neue Liste zu erstellen - du kannst dies mit dem Index und dem Gleichheitszeichen tun:"
      ]
    },
    {
      "cell_type": "code",
      "execution_count": null,
      "id": "adapted-postage",
      "metadata": {
        "id": "adapted-postage"
      },
      "outputs": [],
      "source": [
        "my_other_list[1] = 100\n",
        "print(my_other_list)"
      ]
    },
    {
      "cell_type": "markdown",
      "id": "fewer-links",
      "metadata": {
        "id": "fewer-links"
      },
      "source": [
        "Erinnerst du dich, wie die Variable `my_other_list` aussah? Hast du etwas Seltsames bemerkt? In den meisten Programmiersprachen beginnen wir mit der Zählung bei `0` statt bei `1`. Um also das erste Element einer Liste zu erhalten, setzt du `[0]` hinter die Liste."
      ]
    },
    {
      "cell_type": "markdown",
      "id": "bI7tTeb96DBr",
      "metadata": {
        "id": "bI7tTeb96DBr"
      },
      "source": [
        "Der Index kann auch mit einem negativen Vorzeichen verwendet werden, um auf die Elemente vom Ende her zuzugreifen."
      ]
    },
    {
      "cell_type": "code",
      "execution_count": null,
      "id": "Jzte5N9p6omz",
      "metadata": {
        "id": "Jzte5N9p6omz"
      },
      "outputs": [],
      "source": [
        "my_other_list[-1]"
      ]
    },
    {
      "cell_type": "markdown",
      "id": "convertible-vegetable",
      "metadata": {
        "id": "convertible-vegetable"
      },
      "source": [
        "Manche Leute werden sogar noch verrückter und machen Listen über Listen ..."
      ]
    },
    {
      "cell_type": "code",
      "execution_count": null,
      "id": "israeli-article",
      "metadata": {
        "id": "israeli-article"
      },
      "outputs": [],
      "source": [
        "my_2d_list = [[0,1,2], [3,4,5]]\n",
        "print(my_2d_list)"
      ]
    },
    {
      "cell_type": "markdown",
      "id": "thirty-percentage",
      "metadata": {
        "id": "thirty-percentage"
      },
      "source": [
        "Du wirst später herausfinden, warum das für die Bildbearbeitung nützlich sein kann. Oder hast du vielleicht schon eine Intuition? Lass uns später mal sehen..."
      ]
    },
    {
      "cell_type": "markdown",
      "id": "f83-Zdwa8w07",
      "metadata": {
        "id": "f83-Zdwa8w07"
      },
      "source": [
        "Listen und Variablen müssen jedoch nicht unbedingt Zahlen enthalten. Du kannst auch Wörter oder so genannte *Strings* schreiben - eine Abfolge von Symbolen und Zeichen:"
      ]
    },
    {
      "cell_type": "code",
      "execution_count": null,
      "id": "dweXIMYi9QS9",
      "metadata": {
        "id": "dweXIMYi9QS9"
      },
      "outputs": [],
      "source": [
        "a = \"Hallo\"\n",
        "b = \"und\"\n",
        "c = \"Willkommen\"\n",
        "list_strings = [a, b, c]\n",
        "print(list_strings)"
      ]
    },
    {
      "cell_type": "markdown",
      "id": "q7pQCBQLPuwn",
      "metadata": {
        "id": "q7pQCBQLPuwn"
      },
      "source": [
        "Du kannst die Variablen auch addieren, um einen Satz zu bilden."
      ]
    },
    {
      "cell_type": "code",
      "execution_count": null,
      "id": "LlqRH-6IPxfj",
      "metadata": {
        "id": "LlqRH-6IPxfj"
      },
      "outputs": [],
      "source": [
        "a + \" \" + b + \" \" + c"
      ]
    },
    {
      "cell_type": "markdown",
      "id": "PS9VNSIpmb1o",
      "metadata": {
        "id": "PS9VNSIpmb1o"
      },
      "source": [
        "Eine String kann auch eine Zahl enthalten. Python behandelt sie jedoch nur dann als Zahl, wenn wir sie mit int() (vom Wort *Integer*) umwandeln."
      ]
    },
    {
      "cell_type": "code",
      "execution_count": null,
      "id": "a2F5Wd7rmu7w",
      "metadata": {
        "id": "a2F5Wd7rmu7w"
      },
      "outputs": [],
      "source": [
        "a = \"5\"\n",
        "a = int(a)\n",
        "print(a)"
      ]
    },
    {
      "cell_type": "markdown",
      "id": "frank-living",
      "metadata": {
        "id": "frank-living"
      },
      "source": [
        "### Funktionen"
      ]
    },
    {
      "cell_type": "markdown",
      "id": "innocent-remainder",
      "metadata": {
        "id": "innocent-remainder"
      },
      "source": [
        "Nun kann es vorkommen, dass wir Sachen automatisieren wollen. Das heisst, vielleicht wollen wir für drei beliebige Variablen $a * b : c$ berechnen. Das können wir mit einer *Funktion* machen. Eine Funktion ist sehr nützlich in Python, und du wirst wahrscheinlich viele von ihnen sehen. Die typische Struktur einer Funktion ist wie folgt:"
      ]
    },
    {
      "cell_type": "code",
      "execution_count": null,
      "id": "offshore-pursuit",
      "metadata": {
        "id": "offshore-pursuit"
      },
      "outputs": [],
      "source": [
        "def introduce_yourself(name):\n",
        "    sentence = \"My name is \" + name\n",
        "    print(sentence)\n",
        "    return sentence"
      ]
    },
    {
      "cell_type": "markdown",
      "id": "happy-columbia",
      "metadata": {
        "id": "happy-columbia"
      },
      "source": [
        "Eine Funktion beginnt immer mit ``def`` und man kann ihr einen Namen geben (hier: ``introduce_yourself``). Du kannst ihr eine Eingabe geben (hier: ``name``), sie macht in der Mitte etwas mit dieser Eingabe (hier: Erzeuge und drucke einen Satz) und am Ende gibt sie eine Ausgabe zurück (hier: ``sentence``). Du kannst eine Funktion wie folgt ausführen:"
      ]
    },
    {
      "cell_type": "code",
      "execution_count": null,
      "id": "homeless-tribute",
      "metadata": {
        "id": "homeless-tribute"
      },
      "outputs": [],
      "source": [
        "my_sentence = introduce_yourself(\"Eva\")"
      ]
    },
    {
      "cell_type": "markdown",
      "id": "fc5e0252",
      "metadata": {
        "id": "fc5e0252"
      },
      "source": [
        "Wenn du mit Funktionen arbeitest, siehst du, dass der Code hier eingerückt ist und dass die Funktion dort endet, wo die Einrückung aufhört. Alles, was eingerückt ist, ist in der Funktion enthalten.  "
      ]
    },
    {
      "cell_type": "markdown",
      "id": "elder-lending",
      "metadata": {
        "id": "elder-lending"
      },
      "source": [
        "Ein anderes Beispiel: Wir wollen eine Funktion erstellen, die das Produkt von drei Variablen berechnet ($a * b * c$). Das würde wie folgt aussehen:"
      ]
    },
    {
      "cell_type": "code",
      "execution_count": null,
      "id": "administrative-barbados",
      "metadata": {
        "id": "administrative-barbados"
      },
      "outputs": [],
      "source": [
        "def product(a, b, c):\n",
        "    return a * b * c"
      ]
    },
    {
      "cell_type": "markdown",
      "id": "passing-refund",
      "metadata": {
        "id": "passing-refund"
      },
      "source": [
        "Wenn wir nun diese Funktion verwenden, um $ 6 * 7 * 8 $ zu berechnen, sieht es wie folgt aus:"
      ]
    },
    {
      "cell_type": "code",
      "execution_count": null,
      "id": "italian-buddy",
      "metadata": {
        "id": "italian-buddy"
      },
      "outputs": [],
      "source": [
        "product(6, 7, 8)"
      ]
    },
    {
      "cell_type": "markdown",
      "id": "digital-parade",
      "metadata": {
        "id": "digital-parade"
      },
      "source": [
        "**Übung 4** Versuche es jetzt selbst: Erstelle eine Funktion, die ($a * b : c$) berechnet. Berechne mit dieser Funktion $ 4 * 8 : 2 $ und $ 6 * 12 : 3 $. Wir haben dir bereits geholfen, da wir das Gerüst für eine Funktion gegeben haben. Du musst es nur noch ausfüllen."
      ]
    },
    {
      "cell_type": "code",
      "execution_count": null,
      "id": "insured-consumption",
      "metadata": {
        "id": "insured-consumption"
      },
      "outputs": [],
      "source": [
        "def product_divide():\n",
        "    return"
      ]
    },
    {
      "cell_type": "code",
      "execution_count": null,
      "id": "decreased-marble",
      "metadata": {
        "id": "decreased-marble"
      },
      "outputs": [],
      "source": [
        "product_divide()"
      ]
    },
    {
      "cell_type": "markdown",
      "id": "lasting-sentence",
      "metadata": {
        "id": "lasting-sentence"
      },
      "source": [
        "Gute Arbeit! Wir sind fast fertig mit dem Intro, halte durch."
      ]
    },
    {
      "cell_type": "markdown",
      "id": "signed-grounds",
      "metadata": {
        "id": "signed-grounds"
      },
      "source": [
        "### Modulen"
      ]
    },
    {
      "cell_type": "markdown",
      "id": "incorporated-preview",
      "metadata": {
        "id": "incorporated-preview"
      },
      "source": [
        "Das Tolle an Python ist, dass es viele Leute gibt, die sich diese Funktionen bereits ausgedacht haben. Diese Funktionen sind in der Regel in _Modulen_ oder _Libraries_ (Bibliotheken) zusammengefasst. Du kannst diese Funktionen in deinem Code verwenden, nachdem du die Modulen erst auf deinem Laptop installiert hast und mit ``import`` importiert hast. Das klingt vielleicht kompliziert, ist es aber nicht."
      ]
    },
    {
      "cell_type": "markdown",
      "id": "solved-accessory",
      "metadata": {
        "id": "solved-accessory"
      },
      "source": [
        " Das Installieren einer Python-Bibliothek ist jedoch sehr einfach. Um die `numpy` Module zu installieren, musst du nur das Folgende in die Zelle unten schreiben: `!pip install numpy`"
      ]
    },
    {
      "cell_type": "code",
      "execution_count": null,
      "id": "incident-finnish",
      "metadata": {
        "id": "incident-finnish"
      },
      "outputs": [],
      "source": []
    },
    {
      "cell_type": "markdown",
      "id": "continued-coach",
      "metadata": {
        "id": "continued-coach"
      },
      "source": [
        "Um die `numpy` Module zu verwenden, schreibst du einfach `import numpy` in die Zelle unten."
      ]
    },
    {
      "cell_type": "code",
      "execution_count": null,
      "id": "published-garage",
      "metadata": {
        "id": "published-garage"
      },
      "outputs": [],
      "source": []
    },
    {
      "cell_type": "markdown",
      "id": "accepting-vermont",
      "metadata": {
        "id": "accepting-vermont"
      },
      "source": [
        "Programmierer verwenden gerne Abkürzungen, damit der Code lesbar bleibt. Für `numpy`, werden wir die Abkürzung `np` verwenden. Das bedeutet, dass du später mit `np` auf alle Funktionen in diesem Modul zugreifen kannst."
      ]
    },
    {
      "cell_type": "code",
      "execution_count": null,
      "id": "composite-childhood",
      "metadata": {
        "id": "composite-childhood"
      },
      "outputs": [],
      "source": [
        "import numpy as np"
      ]
    },
    {
      "cell_type": "markdown",
      "id": "amino-accordance",
      "metadata": {
        "id": "amino-accordance"
      },
      "source": [
        "`numpy` ist eine Library, die viele Leute benutzen. Sie enthält zum Beispiel die Funktion ``sqrt``, mit der du die Quadratwurzel einer Zahl berechnen kannst:"
      ]
    },
    {
      "cell_type": "code",
      "execution_count": null,
      "id": "blank-engineering",
      "metadata": {
        "id": "blank-engineering"
      },
      "outputs": [],
      "source": [
        "np.sqrt(144) # Dies berechnet die Quadratwurzel aus 144"
      ]
    },
    {
      "cell_type": "markdown",
      "id": "applicable-cathedral",
      "metadata": {
        "id": "applicable-cathedral"
      },
      "source": [
        "Beachte, dass der Computer den Teil nach ``#`` nicht sieht. Das wird *Kommentar* genannt und kann nur eine zusätzliche Erklärung für jemand anderen sein, der deinen Code liest."
      ]
    },
    {
      "cell_type": "markdown",
      "id": "7azg-pnXRS1v",
      "metadata": {
        "id": "7azg-pnXRS1v"
      },
      "source": [
        "In der Zelle hierunter kannst du jede beliebige Quadratwurzel berechnen."
      ]
    },
    {
      "cell_type": "code",
      "execution_count": null,
      "id": "ZHfTn5DlRRRs",
      "metadata": {
        "id": "ZHfTn5DlRRRs"
      },
      "outputs": [],
      "source": [
        "np.sqrt()"
      ]
    },
    {
      "cell_type": "markdown",
      "id": "usual-attribute",
      "metadata": {
        "id": "usual-attribute"
      },
      "source": [
        "### Schlüsselwörtern"
      ]
    },
    {
      "cell_type": "markdown",
      "id": "8033fe8a",
      "metadata": {
        "id": "8033fe8a"
      },
      "source": [
        "Zum Schlüss noch einige zusätzliche Informationen: Python hat eine Reihe von Schlüsselwörtern, die reserviert sind und nicht als Variablennamen, Funktionsnamen oder andere Bezeichner verwendet werden können. Diese Schlüsselwörter haben alle ihre eigene Bedeutung und können verschiedene Aufgaben erfüllen.\n",
        "\n",
        "Zum Beispiel, das Schlüsselwort `def` zeigt beispielsweise an, dass du eine Funktion definierst und das Schlüsselwort `if` bedeutet, dass du den Code nur ausführen willst, wenn er eine bestimmte Bedingung erfüllt.\n",
        "\n",
        "Wenn du ein erfahrener Python-Programmierer bist, wirst du viele dieser Schlüsselwörter kennen. Bisher hast du bereits einige dieser Schlüsselwörter kennengelernt. Kannst du welche finden, die du schon einmal gesehen hast?"
      ]
    },
    {
      "cell_type": "markdown",
      "id": "4c7a9b90",
      "metadata": {
        "id": "4c7a9b90"
      },
      "source": [
        "| Schlüsselwort     | Beschreibung | | | |\n",
        "|--------------         |-------------------------------------------------------------------------------------------------------|---|---|---|\n",
        "| and | Ein logischer Operator | | | |\n",
        "| as | Um einen Alias zu erstellen | | | |\n",
        "| assert | Zur Fehlersuche | | | |\n",
        "| break | Zum Verlassen einer Schleife | | | |\n",
        "| class | Zur Definition einer Klasse | | | |\n",
        "| continue | Zum Fortfahren mit der nächsten Iteration einer Schleife | | | |\n",
        "| def | Um eine Funktion zu definieren | | | |\n",
        "| del | Zum Löschen eines Objekts | | | |\n",
        "| elif | Wird in bedingten Anweisungen verwendet, genauso wie else if | | | |\n",
        "| else | Verwendet in bedingten Anweisungen | | | |\n",
        "| except | Wird bei Ausnahmen verwendet, was beim Auftreten einer Ausnahme zu tun ist | | | |\n",
        "| False | Boolescher Wert, Ergebnis von Vergleichsoperationen | | | |\n",
        "| finally | Wird bei Ausnahmen verwendet, ein Codeblock, der ausgeführt wird, unabhängig davon, ob eine Ausnahme vorliegt oder nicht | | | |\n",
        "| for | Um eine for-Schleife zu erstellen | | | |\n",
        "| from | Um bestimmte Teile eines Moduls zu importieren | | | |\n",
        "| global | Um eine globale Variable zu deklarieren | | | |\n",
        "| if | Um eine bedingte Anweisung zu machen | | | |\n",
        "| import | Zum Importieren eines Moduls | | | |\n",
        "| in | Um zu prüfen, ob ein Wert in einer Liste, einem Tupel usw. vorhanden ist  | | | |\n",
        "| is | Um zu prüfen, ob zwei Variablen gleich sind | | | |\n",
        "| lambda | Zur Erstellung einer anonymen Funktion | | | |\n",
        "| None | Repräsentiert einen Nullwert | | | |\n",
        "| not | Ein logischer Operator | | | |\n",
        "| or | Ein logischer Operator | | | |\n",
        "| pass | Eine Null-Anweisung, eine Anweisung, die nichts tut | | | |\n",
        "| raise | Zum Auslösen einer Ausnahme | | | |\n",
        "| return | Um eine Funktion zu verlassen und einen Wert zurückzugeben | | | |\n",
        "| True | Boolescher Wert, Ergebnis von Vergleichsoperationen | | | |\n",
        "| try | Um eine try...except-Anweisung zu erstellen | | | |\n",
        "| while | Um eine while-Schleife zu erstellen | | | |\n",
        "| with | Wird verwendet, um die Behandlung von Ausnahmen zu vereinfachen | | | |\n",
        "| yield | Zum Beenden einer Funktion, gibt einen Generator zurück | | | |"
      ]
    },
    {
      "cell_type": "markdown",
      "id": "tC8_2yirQSnY",
      "metadata": {
        "id": "tC8_2yirQSnY"
      },
      "source": [
        "Nach und nach wirst du dich mit diesen Schlüsselwörtern vertraut machen, aber im Moment konzentrieren wir uns auf zwei von ihnen: `if` und `for`.\n",
        "\n",
        "Das Schlüsselwort `if` verwenden wir, wenn der Code nur dann etwas tun soll, wenn eine Bedingung erfüllt ist. Zum Beispiel:"
      ]
    },
    {
      "cell_type": "code",
      "execution_count": null,
      "id": "SDZWttJEmB_8",
      "metadata": {
        "id": "SDZWttJEmB_8"
      },
      "outputs": [],
      "source": [
        "a = 5\n",
        "b = 4\n",
        "if a + b > 5:\n",
        "  print(a+b)"
      ]
    },
    {
      "cell_type": "markdown",
      "id": "M15NoSLwnTAg",
      "metadata": {
        "id": "M15NoSLwnTAg"
      },
      "source": [
        "Mit dem Schlüsselwort `for` können wir über eine Liste oder ein Array iterieren, d. h. Element für Element gehen."
      ]
    },
    {
      "cell_type": "code",
      "execution_count": null,
      "id": "fh5ucR3snin4",
      "metadata": {
        "id": "fh5ucR3snin4"
      },
      "outputs": [],
      "source": [
        "list_for_loop = [\"I\", \"love\", \"Python\"]\n",
        "for element in list_for_loop:\n",
        "  print(element)"
      ]
    },
    {
      "cell_type": "markdown",
      "id": "surprised-paradise",
      "metadata": {
        "id": "surprised-paradise"
      },
      "source": [
        "Auf jeden Fall weisst du jetzt, wie du ein bisschen Python-Code verstehen kannst! Im Folgenden werden wir mit Bildern im Computer fortfahren.\n",
        "\n",
        "**Übung 5** Aber bevor wir zu Teil II übergehen, wollen wir sehen, ob du eine Funktion erstellen kannst, die eine Liste als Eingabe nimmt, über ihre Werte iteriert und nur die Elemente ausgibt, die einen Wert größer als 4 haben.\n"
      ]
    },
    {
      "cell_type": "code",
      "execution_count": null,
      "id": "Z5P5VWHSokII",
      "metadata": {
        "id": "Z5P5VWHSokII"
      },
      "outputs": [],
      "source": [
        "list_values = [5,1,6,4,3,9,10,7,2,6]"
      ]
    },
    {
      "cell_type": "code",
      "execution_count": null,
      "id": "FzEaGAMLofgQ",
      "metadata": {
        "id": "FzEaGAMLofgQ"
      },
      "outputs": [],
      "source": [
        "def test(input_list):\n",
        "    ..."
      ]
    },
    {
      "cell_type": "code",
      "execution_count": null,
      "id": "_uQYNT6mox-k",
      "metadata": {
        "id": "_uQYNT6mox-k"
      },
      "outputs": [],
      "source": [
        "test(list_values)"
      ]
    },
    {
      "cell_type": "markdown",
      "id": "740b15d3",
      "metadata": {
        "id": "740b15d3"
      },
      "source": [
        "# Et voilà! Ihr habt es geschafft!"
      ]
    },
    {
      "cell_type": "markdown",
      "id": "invalid-thomas",
      "metadata": {
        "id": "invalid-thomas"
      },
      "source": [
        "# Weitere Beispiele\n",
        "\n",
        "Falls ihr noch nicht genug habt, könnte ihr auch gerne hier malreinschauen:\n",
        "\n",
        "- https://medium.com/@hannalee/art-creator-25fda3c35d8b\n",
        "- https://medium.com/@ecyy/tensorflow-hub-create-an-artistic-picture-by-a-ml-app-e21308c7db1b\n",
        "\n",
        "Viel Spass und vielen Dank, dass ihr bis zum Ende alles gegeben habt!"
      ]
    }
  ],
  "metadata": {
    "colab": {
      "provenance": [],
      "include_colab_link": true
    },
    "kernelspec": {
      "display_name": "Python 3.9.13 64-bit",
      "language": "python",
      "name": "python3"
    },
    "language_info": {
      "codemirror_mode": {
        "name": "ipython",
        "version": 3
      },
      "file_extension": ".py",
      "mimetype": "text/x-python",
      "name": "python",
      "nbconvert_exporter": "python",
      "pygments_lexer": "ipython3",
      "version": "3.11.4"
    },
    "vscode": {
      "interpreter": {
        "hash": "b0fa6594d8f4cbf19f97940f81e996739fb7646882a419484c72d19e05852a7e"
      }
    }
  },
  "nbformat": 4,
  "nbformat_minor": 5
}