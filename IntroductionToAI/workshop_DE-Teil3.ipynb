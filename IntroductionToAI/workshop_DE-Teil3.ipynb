{
  "cells": [
    {
      "cell_type": "markdown",
      "metadata": {
        "colab_type": "text",
        "id": "view-in-github"
      },
      "source": [
        "<a href=\"https://colab.research.google.com/github/girlscodetoo-ch/AI-Arts/blob/main/IntroductionToAI/workshop_DE-Teil3.ipynb\" target=\"_parent\"><img src=\"https://colab.research.google.com/assets/colab-badge.svg\" alt=\"Open In Colab\"/></a>"
      ]
    },
    {
      "cell_type": "markdown",
      "id": "coated-cambridge",
      "metadata": {
        "id": "coated-cambridge"
      },
      "source": [
        "# KS Willisau Workshop - Künstliche Intelligenz und Kunst - Teil 3"
      ]
    },
    {
      "cell_type": "markdown",
      "id": "asian-psychology",
      "metadata": {
        "id": "asian-psychology"
      },
      "source": [
        "Willkommen zum dritten Teil des Kunst & Künstliche Intelligenz Workshop. In diesem so genannten _Notebook_ wirst du eine kurze Einführung in die Programmiersprache `Python` bekommen, wirst du erfahren, wie ein Computer Bilder sieht und lernen, wie man mit Künstlicher Intelligenz Kunst schaffen kann. Lasst uns loslegen!"
      ]
    },
    {
      "cell_type": "markdown",
      "id": "GItv9B56nbw1",
      "metadata": {
        "id": "GItv9B56nbw1"
      },
      "source": [
        "## **Teil III** - Künstliche Intelligenz"
      ]
    },
    {
      "cell_type": "markdown",
      "id": "RAzmXnLJUts-",
      "metadata": {
        "id": "RAzmXnLJUts-"
      },
      "source": [
        "![](https://raw.githubusercontent.com/girlscodetoo-ch/AI-Arts/main/images/ai-art.jpg)"
      ]
    },
    {
      "cell_type": "markdown",
      "id": "Y0QptQZAPf2m",
      "metadata": {
        "id": "Y0QptQZAPf2m"
      },
      "source": [
        "Wie kommen wir von hier zur künstlichen Intelligenz (KI)? Unser Ziel ist um mit KI Kunst aus Bildern zu erzeugen. Bis jetzt hast du die Grundlagen von Python gelernt und wie man Bilder in Python verarbeitet. Jetzt wirst du ein wenig über KI lernen. Wir werden mit der Grundidee von KI beginnen und ein einfaches Beispiel selbst erstellen. Wenn du diese Teile verstanden hast, können wir mit komplizierteren KI fortfahren und selbst eine KI für Bilder erstellen."
      ]
    },
    {
      "cell_type": "markdown",
      "id": "oe5ipmmpQYX0",
      "metadata": {
        "id": "oe5ipmmpQYX0"
      },
      "source": [
        "### Grundlagen von KI"
      ]
    },
    {
      "cell_type": "markdown",
      "id": "iAx8an36Pf_B",
      "metadata": {
        "id": "iAx8an36Pf_B"
      },
      "source": [
        "Wir werden zunächst mit einem kurzen Einführungsvideo über künstliche Intelligenz beginnen. Bitte sehe dich das Video unten an."
      ]
    },
    {
      "cell_type": "code",
      "execution_count": null,
      "id": "NxLEjzPfqVh8",
      "metadata": {
        "cellView": "form",
        "colab": {
          "base_uri": "https://localhost:8080/",
          "height": 521
        },
        "id": "NxLEjzPfqVh8",
        "outputId": "3a08f21d-c832-403e-a372-dc5ae56ba8f4"
      },
      "outputs": [
        {
          "data": {
            "image/jpeg": "[encoded data removed]",
            "text/html": [
              "\n",
              "        <iframe\n",
              "            width=\"750\"\n",
              "            height=\"500\"\n",
              "            src=\"https://www.youtube.com/embed/3RsmRMqX2IY\"\n",
              "            frameborder=\"0\"\n",
              "            allowfullscreen\n",
              "        ></iframe>\n",
              "        "
            ],
            "text/plain": [
              "<IPython.lib.display.YouTubeVideo at 0x7f8812fa6490>"
            ]
          },
          "execution_count": 4,
          "metadata": {},
          "output_type": "execute_result"
        }
      ],
      "source": [
        "#@title\n",
        "from IPython.display import YouTubeVideo\n",
        "YouTubeVideo('3RsmRMqX2IY', width=750, height=500)"
      ]
    },
    {
      "cell_type": "markdown",
      "id": "8wuDRx-LPgC_",
      "metadata": {
        "id": "8wuDRx-LPgC_"
      },
      "source": [
        "*Kurz zusammengefasst*: KI ist ein Computeralgorithmus oder -modell, das versucht, den Lernprozess des Gehirns zu imitieren. Im Gehirn gibt es viele Nervenzellen, die miteinander verbunden sind und Signale übertragen. Irgendwie ist das Gehirn in der Lage, Dinge zu lernen, z. B. als Kind, wie man bestimmte Tiere erkennt. Indem du viele Tiere beobachtest und von deinen Eltern eine Rückmeldung bekommst, ob du dem Tier den richtigen Namen gibst, hast du gelernt, diese Tiere zu identifizieren. Mit der künstlichen Intelligenz haben die Menschen versucht, diesen Prozess auf Computer zu übertragen. Wir werden in den nächsten Schritten herausfinden, wie das bei Computern funktioniert."
      ]
    },
    {
      "cell_type": "markdown",
      "id": "cHBGTXTlPgJI",
      "metadata": {
        "id": "cHBGTXTlPgJI"
      },
      "source": [
        "### Ein sehr einfaches neuronales Netz verstehen\n"
      ]
    },
    {
      "cell_type": "markdown",
      "id": "IIQNr__iPgGN",
      "metadata": {
        "id": "IIQNr__iPgGN"
      },
      "source": [
        "Konkret werden wir uns mit einer ganz bestimmten Art von KI beschäftigen, nämlich mit neuronalen Netzen. Mit neuronalen Netzen hat der Mensch versucht, die Neuronenstruktur des Gehirns in Computern nachzuahmen. "
      ]
    },
    {
      "cell_type": "code",
      "execution_count": null,
      "id": "OZd36AnKAiuM",
      "metadata": {
        "cellView": "form",
        "colab": {
          "base_uri": "https://localhost:8080/",
          "height": 421
        },
        "id": "OZd36AnKAiuM",
        "outputId": "0f41851a-5e92-4d14-c8cc-e717fac17822"
      },
      "outputs": [
        {
          "data": {
            "text/html": [
              "<img src=\"https://miro.medium.com/max/640/1*BQ0pIVk56WHyqigI9adDLw.gif\"/>"
            ],
            "text/plain": [
              "<IPython.core.display.Image object>"
            ]
          },
          "execution_count": 1,
          "metadata": {},
          "output_type": "execute_result"
        }
      ],
      "source": [
        "#@title\n",
        "from IPython.display import Image\n",
        "Image(url='https://miro.medium.com/max/640/1*BQ0pIVk56WHyqigI9adDLw.gif')"
      ]
    },
    {
      "cell_type": "markdown",
      "id": "ZivfL71hAX6R",
      "metadata": {
        "id": "ZivfL71hAX6R"
      },
      "source": [
        "Ein einfaches neuronales Netz basiert auf dem Prinzip der Betrachtung von Beispielen und dem Erhalt von Feedback zu diesen Beispielen. \n",
        "\n",
        "*Aufbau*: Ein neuronales Netz ist immer wie folgt aufgebaut. Es erhält eine Eingabe (**input**), das können zum Beispiel Bilder von Tieren sein. Denke daran, dass Bilder nur Listen von Listen mit Zahlen sind. In jeder nachfolgenden Schicht (**layer**) des Netzes wird die Eingabe mit Zahlen multipliziert, die Gewichte (**weights**) genannt werden. Am Ende steht eine Ausgangszahl (**output**), die in eine Wahrscheinlichkeit für eine bestimmte Beschriftung (**label**) übersetzt werden kann. Dieses Label kann zum Beispiel \"Katze\" oder \"Hund\" sein. "
      ]
    },
    {
      "cell_type": "code",
      "execution_count": null,
      "id": "RVKzy4X2G1Ql",
      "metadata": {
        "cellView": "form",
        "colab": {
          "base_uri": "https://localhost:8080/",
          "height": 371
        },
        "id": "RVKzy4X2G1Ql",
        "outputId": "85a52204-b4e5-4de9-e88d-12d8befcfaf0"
      },
      "outputs": [
        {
          "data": {
            "text/html": [
              "<img src=\"https://miro.medium.com/max/720/1*BIpRgx5FsEMhr1k2EqBKFg.gif\" width=\"600\" height=\"350\"/>"
            ],
            "text/plain": [
              "<IPython.core.display.Image object>"
            ]
          },
          "execution_count": 5,
          "metadata": {},
          "output_type": "execute_result"
        }
      ],
      "source": [
        "#@title\n",
        "from IPython.display import Image\n",
        "Image(url='https://miro.medium.com/max/720/1*BIpRgx5FsEMhr1k2EqBKFg.gif', width=600, height=350)"
      ]
    },
    {
      "cell_type": "markdown",
      "id": "xSO5bg5ZG1gD",
      "metadata": {
        "id": "xSO5bg5ZG1gD"
      },
      "source": [
        "*Lernprozess*: Ein neuronales Netz kann dann wie folgt lernen. Jedes Mal, wenn eine Eingabe durch das Netz propagiert wird und eine Ausgabe erzeugt, können wir diese mit der bekannten Beschriftung für die Eingabe vergleichen. Bei einem Bild einer Katze zum Beispiel ist die bekannte Beschriftung \"Katze\". Wenn die Ausgabe des Netzes eine Wahrscheinlichkeit für eine andere Beschriftung als \"Katze\" ergibt, können wir dem Netz sagen, dass es falsch ist, und es sollte schrittweise die Gewichte (die Zahlen im Netz) aktualisieren, so dass bei den nächsten Beispielen von Katzen die Beschriftung hoffentlich korrekter sind."
      ]
    },
    {
      "cell_type": "code",
      "execution_count": null,
      "id": "kqTaxYDvtqra",
      "metadata": {
        "cellView": "form",
        "colab": {
          "base_uri": "https://localhost:8080/",
          "height": 426
        },
        "id": "kqTaxYDvtqra",
        "outputId": "f0d24264-781b-4b0d-92f2-655ff731d9c7"
      },
      "outputs": [
        {
          "data": {
            "text/html": [
              "<img src=\"https://miro.medium.com/max/720/1*oB3S5yHHhvougJkPXuc8og.gif\"/>"
            ],
            "text/plain": [
              "<IPython.core.display.Image object>"
            ]
          },
          "execution_count": 5,
          "metadata": {},
          "output_type": "execute_result"
        }
      ],
      "source": [
        "#@title\n",
        "from IPython.display import Image\n",
        "Image(url='https://miro.medium.com/max/720/1*oB3S5yHHhvougJkPXuc8og.gif')"
      ]
    },
    {
      "cell_type": "markdown",
      "id": "683BRpVLCwVJ",
      "metadata": {
        "id": "683BRpVLCwVJ"
      },
      "source": [
        "Vergewisser dich, dass du die fett gedruckten Englischen Begriffe einigermaßen verstehst. Diese werden sich im nächsten Teil des Workshops wiederholen. Wir verstehen, dass der Lernprozess für dich vielleicht noch nicht ganz klar ist. Wir hoffen, dass du dies anhand eines einfachen Beispiels etwas besser verstehen wirst."
      ]
    },
    {
      "cell_type": "markdown",
      "id": "gg9KyluGJzH8",
      "metadata": {
        "id": "gg9KyluGJzH8"
      },
      "source": [
        "### Beispiel: Training eines einfachen neuronalen Netzes"
      ]
    },
    {
      "cell_type": "markdown",
      "id": "zpmOFW073FxX",
      "metadata": {
        "id": "zpmOFW073FxX"
      },
      "source": [
        "Wir werden dir zeigen, wie du ein einfaches neuronales Netz aufbaust und trainierst. Die Aufgabe, die das neuronale Netz erfüllen soll, ist die Klassifizierung von Bildern handgeschriebener Ziffern. Deine Daten bestehen aus Bildern handgeschriebener Ziffern und ihren jeweiligen Beschriftungen und werden als \"MNIST-Datensatz\" bezeichnet. (Siehe das Beispiel unten.)"
      ]
    },
    {
      "cell_type": "code",
      "execution_count": null,
      "id": "3xXpwRl33UnK",
      "metadata": {
        "cellView": "form",
        "colab": {
          "base_uri": "https://localhost:8080/",
          "height": 370
        },
        "id": "3xXpwRl33UnK",
        "outputId": "49c20ee7-c182-4d5e-ee8d-6b8145d02f82"
      },
      "outputs": [
        {
          "name": "stdout",
          "output_type": "stream",
          "text": [
            "The MNIST dataset\n"
          ]
        },
        {
          "data": {
            "text/html": [
              "<img src=\"https://miro.medium.com/max/720/1*O35lwO5O4sK0_9GuE5aG0A.png\"/>"
            ],
            "text/plain": [
              "<IPython.core.display.Image object>"
            ]
          },
          "execution_count": 17,
          "metadata": {},
          "output_type": "execute_result"
        }
      ],
      "source": [
        "#@title\n",
        "from IPython.display import Image\n",
        "print(\"The MNIST dataset\")\n",
        "Image(url='https://miro.medium.com/max/720/1*O35lwO5O4sK0_9GuE5aG0A.png')"
      ]
    },
    {
      "cell_type": "markdown",
      "id": "8m1LxjbT33KA",
      "metadata": {
        "id": "8m1LxjbT33KA"
      },
      "source": [
        "#### Daten"
      ]
    },
    {
      "cell_type": "markdown",
      "id": "eBiM74uAAYBM",
      "metadata": {
        "id": "eBiM74uAAYBM"
      },
      "source": [
        "Wir werden die Daten zunächst herunterladen und verarbeiten"
      ]
    },
    {
      "cell_type": "code",
      "execution_count": null,
      "id": "vJGSaK3xKBlH",
      "metadata": {
        "id": "vJGSaK3xKBlH"
      },
      "outputs": [],
      "source": [
        "from sklearn.datasets import fetch_openml\n",
        "from keras.utils.np_utils import to_categorical\n",
        "import numpy as np\n",
        "from tqdm import tqdm"
      ]
    },
    {
      "cell_type": "markdown",
      "id": "MiodCVUsyTFi",
      "metadata": {
        "id": "MiodCVUsyTFi"
      },
      "source": [
        "Führe die folgende Zelle aus. Das wird ein paar Minuten dauern."
      ]
    },
    {
      "cell_type": "code",
      "execution_count": null,
      "id": "WtmkPgdPKQjo",
      "metadata": {
        "id": "WtmkPgdPKQjo"
      },
      "outputs": [],
      "source": [
        "x, y = fetch_openml('mnist_784', version=1, return_X_y=True)\n",
        "x = (x/255).astype('float32').to_numpy()\n",
        "y = to_categorical(y)"
      ]
    },
    {
      "cell_type": "markdown",
      "id": "KPFXQbDEAYFB",
      "metadata": {
        "id": "KPFXQbDEAYFB"
      },
      "source": [
        "Was haben wir hier gerade getan? Wir haben die Daten aus einem Online-Paket heruntergeladen. Der Datensatz, den wir heruntergeladen haben, heißt \"*MNIST*\" und enthält Bilder von handgeschriebenen Ziffern und deren Beschriftungen. Wir speichern die Bilder in der Variablen `x` und ihre Beschriftungen in der Variablen `y`. Außerdem haben wir die Eingabe `x` und die Ausgabe `y` in den beiden folgenden Zeilen in die richtige Form gebracht (Du musst die Details hier nicht verstehen). Lass uns `x` und `y` kurz ausdrucken, damit du sehen kannst, wie sie aussehen."
      ]
    },
    {
      "cell_type": "code",
      "execution_count": null,
      "id": "Diu-zxMJLJy8",
      "metadata": {
        "id": "Diu-zxMJLJy8"
      },
      "outputs": [],
      "source": [
        "print(x)\n",
        "print(\"Shape: \", x.shape)"
      ]
    },
    {
      "cell_type": "code",
      "execution_count": null,
      "id": "pYHzcQuayiir",
      "metadata": {
        "id": "pYHzcQuayiir"
      },
      "outputs": [],
      "source": [
        "from matplotlib import pyplot as plt\n",
        "print(\"The first image of the dataset\")\n",
        "plt.imshow(x[0].reshape(28,28), cmap='Greys')\n",
        "plt.show()"
      ]
    },
    {
      "cell_type": "markdown",
      "id": "z-ClIWxtzRbB",
      "metadata": {
        "id": "z-ClIWxtzRbB"
      },
      "source": [
        "Insgesamt haben wir 70.000 Bilder von handgeschriebenen Ziffern und ihren Beschriftungen. Jedes Bild hat 28x28 Pixel und ist flachgelegt. (Flachgelegt bedeutet, dass wir alle Pixelwerte eines Bildes in eine Liste statt in eine Liste von Listen packen. Für ein Bild haben wir also eine Liste mit insgesamt $28*28=784$ Pixeln.)"
      ]
    },
    {
      "cell_type": "code",
      "execution_count": null,
      "id": "Blt4MOnCLKCb",
      "metadata": {
        "id": "Blt4MOnCLKCb"
      },
      "outputs": [],
      "source": [
        "print(y)\n",
        "print(\"Shape: \", y.shape)"
      ]
    },
    {
      "cell_type": "code",
      "execution_count": null,
      "id": "kW-TzKNfy6Na",
      "metadata": {
        "id": "kW-TzKNfy6Na"
      },
      "outputs": [],
      "source": [
        "print(\"The first label of the dataset\")\n",
        "print(y[0])"
      ]
    },
    {
      "cell_type": "markdown",
      "id": "vYJD7JfvAYIQ",
      "metadata": {
        "id": "vYJD7JfvAYIQ"
      },
      "source": [
        "Jedes Label ist eine Liste von 10 Werten. Von 0 bis 9 zählend, ist das $i$-te Element in der Liste gleich 1, wenn die Beschriftung gleich $i$ ist, und sonst gleich 0. Wenn die Beschriftung des Bildes zum Beispiel 2 sein soll, dann ist dieses Array `[0, 0, 1, 0, 0, 0, 0, 0, 0, 0, 0]`."
      ]
    },
    {
      "cell_type": "markdown",
      "id": "pt2ko-Eg36aK",
      "metadata": {
        "id": "pt2ko-Eg36aK"
      },
      "source": [
        "#### Neuronales Netz"
      ]
    },
    {
      "cell_type": "markdown",
      "id": "VZcqqybFZz1J",
      "metadata": {
        "id": "VZcqqybFZz1J"
      },
      "source": [
        "Als Nächstes werden wir dir zeigen, wie du ein einfaches neuronales Netz aufbauen kannst. Wir zeigen dir die Grundlagen des Aufbaus eines neuronalen Netzes. Wir zeigen dir die Struktur des Modells und wie du dieses Modell optimieren oder trainieren kannst."
      ]
    },
    {
      "cell_type": "markdown",
      "id": "61mz4UsPaBwH",
      "metadata": {
        "id": "61mz4UsPaBwH"
      },
      "source": [
        "Bevor du dich den nachstehenden Code ansiehst, solltest du wissen, dass ein neuronales Netz nichts Magisches ist. Ein neuronales Netz wird lediglich durch eine Liste von Zahlen definiert, die *Gewichte* genannt werden (zur Erinnerung: Gewichte sind einfach Listen von Listen von Zahlen). Die Gewichte sind die *Parameter* des neuronalen Netzwerkmodells und sie definieren ein neuronales Netzwerkmodell wie folgt:\n",
        "\n",
        "1.   Die *Anzahl* der Gewichte bestimmt die tatsächliche Größe des Modells und damit seine Leistungsfähigkeit.\n",
        "2.   Die *Struktur* der Gewichte bestimmt, welche Daten Sie laden können und damit auch, wie leistungsfähig das Modell ist.\n",
        "3.   Der *Wert* der Gewichte bestimmt die Beziehung zwischen der Eingabe (hier: Bild) und der Ausgabe (hier: Beschriftung). Unser Ziel ist es also, die Gewichte zu finden, die die Beziehung zwischen Eingabe und Ausgabe am besten beschreiben.\n",
        "\n"
      ]
    },
    {
      "cell_type": "code",
      "execution_count": null,
      "id": "vO0rjDXN4L3O",
      "metadata": {
        "id": "vO0rjDXN4L3O"
      },
      "outputs": [],
      "source": [
        "from scipy.special import softmax\n",
        "from sklearn.metrics import log_loss\n",
        "\n",
        "class MyFirstNeuralNetwork:\n",
        "    def __init__(self):\n",
        "        self.weights = np.random.randn(784, 10) # Hier definieren wir die Gewichte des neuronalen Netzes\n",
        "        self.learning_rate = 1e-3\n",
        "\n",
        "    def forward(self, x):\n",
        "        # Hier wird ein Bild durch das Netz geschickt, um die vorhergesagte Beschriftung zu berechnen\n",
        "        y_pred = softmax(x @ self.weights)\n",
        "        return y_pred\n",
        "\n",
        "    def loss(self, y, y_pred):\n",
        "        # Die Differenz zwischen der wahrer Beschriftung und der vorhergesagter Beschriftung\n",
        "        return log_loss(y, y_pred)\n",
        "\n",
        "    def update_weights(self, x, y, y_pred):\n",
        "        # Gradient descent Algorithmus\n",
        "        # Aktualisierung der Gewichte proportional zum der Ableitung des Verlustes \"loss\"\n",
        "        error = y - y_pred\n",
        "        grad = x.T @ error\n",
        "        self.weights -= self.learning_rate * grad"
      ]
    },
    {
      "cell_type": "code",
      "execution_count": null,
      "id": "M9TqDlfDkQWB",
      "metadata": {
        "id": "M9TqDlfDkQWB"
      },
      "outputs": [],
      "source": [
        "batch_size = 1000 # wie viele Bilder wir in einem Schritt durch das Netz leiten\n",
        "epochs = 100 # wie oft wir den ganzen Datensatz durch das Netz schicken, um die Gewichte anzupassen\n",
        "\n",
        "loss = np.zeros(epochs) # um die Differenz zwischen der wahrer Beschriftung und der vorhergesagter Beschriftung zu verfolgen\n",
        "model = MyFirstNeuralNetwork() # wir erstellen unser neuronales Netz\n",
        "\n",
        "print(\"Training des neuronalen Netzes...\")\n",
        "for e in tqdm(range(epochs)): # wir iterieren \"epochs\" Mahl über den gesamten Datensatz\n",
        "\n",
        "    epoch_loss = []\n",
        "\n",
        "    for i in range(0, len(x), batch_size): # wir iterieren stapelweise über den Datensatz\n",
        "        \n",
        "        # wir leiten den Datenstapel (batch) über das Netz weiter\n",
        "        y_pred = model.forward(x[i:i+batch_size])\n",
        "        \n",
        "        # wir berechnen die Differenz zwischen der vorhergesagter und der wahrer Beschriftung\n",
        "        epoch_loss.append(model.loss(y[i:i+batch_size], y_pred))\n",
        "        \n",
        "        # wir aktualisieren die Gewichte des Netzes anhand des Verlustes\n",
        "        model.update_weights(x[i:i+batch_size], y[i:i+batch_size], y_pred)\n",
        "\n",
        "    # wir berechnen den mittleren Verlust über den gesamten Datensatz\n",
        "    loss[e] = np.mean(epoch_loss)"
      ]
    },
    {
      "cell_type": "markdown",
      "id": "cW965ih0NlwQ",
      "metadata": {
        "id": "cW965ih0NlwQ"
      },
      "source": [
        "Lass uns analysieren, was wir hier gerade getan haben. Zunächst werden wir einige Variablen in den obigen Codeblöcken erklären.\n",
        "\n",
        "\n",
        "| parameter | explanation |\n",
        "| :-------- | :---------- |\n",
        "| `weights` | die Parameter des Modells, die das Verhältnis zwischen Input und Output bestimmen |\n",
        "| `forward` | berechne bei einem Eingangsbild die vorausgesagte Ausgabe anhand der aktuellen Gewichte des neuronalen Netzes |\n",
        "| `y_pred`  | die vorhergesagten Beschriftungen für die Eingabebilder |\n",
        "| `y`       | die wahren Beschriftungen für die Eingabebilder |\n",
        "| `loss`    | eine Funktion, die den Unterschied zwischen der wahrer Beschriftung und der vorhergesagter Beschriftung quantifiziert |\n",
        "| `update_weights` | aktualisiere die Gewichte auf der Grundlage der Bild- und Beschriftungsbeispiele, die das Netz gesehen hat |\n",
        "| `learning_rate` | wie groß (proportional) der Schritt ist, der bei der Aktualisierung der Gewichte zu machen ist |\n",
        "| `batch_size` | wie viele Bilder in einem Schritt über das Netz weitergeleitet werden sollen |\n",
        "| `epochs` | wie oft der gesamte Datensatz über das Netz weitergeleitet werden soll |\n"
      ]
    },
    {
      "cell_type": "markdown",
      "id": "jQ13ASKiSceQ",
      "metadata": {
        "id": "jQ13ASKiSceQ"
      },
      "source": [
        "Was wir oben tun, ist Folgendes. Jedes Mal, wenn wir Daten über das Netzwerk weiterleiten, führen wir drei Schritte durch:\n",
        "\n",
        "1.   `forward`: Wir berechnen die vorhergesagten Beschriftungen anhand der aktuellen Gewichte des Netzes.\n",
        "2.   `loss`: Wir berechnen die Differenz zwischen den vorhergesagten Beschriftungen und den wahren Beschriftungen der Daten.\n",
        "3.   `update_weights`: Wir aktualisieren die Gewichte anhand der Differenz zwischen vorhergesagter und wahrer Beschriftung."
      ]
    },
    {
      "cell_type": "markdown",
      "id": "m4a09oTYUJmW",
      "metadata": {
        "id": "m4a09oTYUJmW"
      },
      "source": [
        "In den beiden `for`-loops durchlaufen wir den Datensatz und geben dem neuronalen Netz weitere Bildbeispiele und ihre jeweiligen Bezeichnungen. Auf diese Weise können wir die Gewichte mit mehr Informationen über die Beziehung zwischen Bildern und Bezeichnungen aktualisieren."
      ]
    },
    {
      "cell_type": "markdown",
      "id": "d3pNfDgWcQPt",
      "metadata": {
        "id": "d3pNfDgWcQPt"
      },
      "source": [
        "Wir können sehen, wie der Verlust nach jeder Epoche des \"Trainings\" des neuronalen Netzes abnimmt."
      ]
    },
    {
      "cell_type": "code",
      "execution_count": null,
      "id": "8HdekvdHcdZC",
      "metadata": {
        "id": "8HdekvdHcdZC"
      },
      "outputs": [],
      "source": [
        "from matplotlib import pyplot as plt \n",
        "\n",
        "plt.plot(loss)\n",
        "plt.xlabel('epoch')\n",
        "plt.ylabel('loss')\n",
        "plt.show()"
      ]
    },
    {
      "cell_type": "markdown",
      "id": "k18rQDlmTbm7",
      "metadata": {
        "id": "k18rQDlmTbm7"
      },
      "source": [
        "Es ist wichtig zu verstehen, dass alle drei Schritte nur Mathematik sind. Wir wollen nicht, dass du die genauen Details der Mathematik verstehst (das ist eher ein Informatikstudium). Du sollst jedoch erkennen, dass es sich hier nur um Mathematik handelt. Wir multiplizieren Listen von Listen von Zahlen miteinander, mit dem Endziel, die beste Liste von Listen zu finden, die die Daten beschreiben."
      ]
    },
    {
      "cell_type": "code",
      "execution_count": null,
      "id": "YZfYWs_vaKOU",
      "metadata": {
        "cellView": "form",
        "colab": {
          "base_uri": "https://localhost:8080/",
          "height": 257
        },
        "id": "YZfYWs_vaKOU",
        "outputId": "00ae19c2-e27d-4108-a357-2c4b3de58f63"
      },
      "outputs": [
        {
          "data": {
            "text/html": [
              "<iframe src=\"https://giphy.com/embed/BmmfETghGOPrW\" width=\"480\" height=\"206\" frameBorder=\"0\" class=\"giphy-embed\" allowFullScreen></iframe><p><a href=\"https://giphy.com/gifs/reaction-BmmfETghGOPrW\">via GIPHY</a></p>"
            ],
            "text/plain": [
              "<IPython.core.display.HTML object>"
            ]
          },
          "execution_count": 43,
          "metadata": {},
          "output_type": "execute_result"
        }
      ],
      "source": [
        "#@title\n",
        "from IPython.display import HTML\n",
        "HTML('<iframe src=\"https://giphy.com/embed/BmmfETghGOPrW\" width=\"480\" height=\"206\" frameBorder=\"0\" class=\"giphy-embed\" allowFullScreen></iframe><p><a href=\"https://giphy.com/gifs/reaction-BmmfETghGOPrW\">via GIPHY</a></p>')"
      ]
    },
    {
      "cell_type": "markdown",
      "id": "DTv2l9FVjt8C",
      "metadata": {
        "id": "DTv2l9FVjt8C"
      },
      "source": [
        "#### Für die Experten"
      ]
    },
    {
      "cell_type": "markdown",
      "id": "EAZ6Ek7ATzPA",
      "metadata": {
        "id": "EAZ6Ek7ATzPA"
      },
      "source": [
        "Wenn das hieroben für dich leicht zu verstehen war, kannst du den folgenden Text gerne weiter lesen. Andernfalls empfehlen wir dir, die nächsten Abschnitte zu überspringen.\n",
        "\n",
        "Was geschah also tatsächlich in den Funktionen, den drei Schritten, oben? \n",
        "\n",
        "In der Funktion `forward`, berechnen wir die vorhergesagten Beschriftungen `y_pred` (in der Formel unten $\\hat{y}$), gegeben die Gewichte `weights` (in der Formel $w$) und die Eingabebilder `x` (in der Formel $x$) mit der folgenden Formel:\n",
        "\n",
        "$$ \\hat{y} = \\sigma \\left( w^\\top \\cdot x \\right) $$\n",
        "\n",
        "Die `softmax`-Funktion $\\sigma$ wird aus mathematischen Gründen benötigt (wir gehen hier nicht weiter darauf ein) und ist definiert als $$\\sigma(z)_j = \\frac{e^{z_j}}{\\sum_k e^{z_k}} $$.\n",
        "\n",
        "In der Funktion `loss` (in der Formel $\\mathcal{L}$) berechnen wir die Differenz zwischen den wahren Beschriftungen `y` (in der Formel $y$) und den vorhergesagten Beschriftungen `y_pred` (in der Formel $\\hat{y}$). Dazu verwenden wir eine \"loss-Funktion\" mit der Bezeichnung *categorical cross-entropy* (auch bekannt als `log_loss`), die wie folgt definiert ist:\n",
        "\n",
        "$$ \\mathcal{L} (y, \\hat{y}) = - (y \\log({\\hat{y}}) + (1-y)\\log({1-\\hat{y}}))$$\n",
        "\n",
        "Diese Funktion wird typischerweise in neuronalen Netzen für die Art von Aufgaben verwendet, die wir hier zu lösen versuchen, nämlich *Klassifizierungsprobleme*. \n",
        "\n",
        "Mit der Funktion `update_weights` aktualisieren wir die Gewichte des Netzes unter Berücksichtigung des oben berechneten Verlustes. In der Tat werden die Gewichte proportional zur Ableitung der Verlustfunktion aktualisiert. Dieser Algorithmus wird *gradient descent* genannt. Es gibt viele andere Methoden, um die besten Gewichte der Netze zu finden, dies ist eine der einfacheren. "
      ]
    },
    {
      "cell_type": "code",
      "execution_count": null,
      "id": "XP6H_ihNbGYx",
      "metadata": {
        "cellView": "form",
        "colab": {
          "base_uri": "https://localhost:8080/",
          "height": 410
        },
        "id": "XP6H_ihNbGYx",
        "outputId": "f9d309a2-0ae5-408e-e392-9954f0dbb0bc"
      },
      "outputs": [
        {
          "data": {
            "text/html": [
              "<img src=\"https://miro.medium.com/max/720/1*Mi63W9thPnat0EIRoqWR9Q.png\"/>"
            ],
            "text/plain": [
              "<IPython.core.display.Image object>"
            ]
          },
          "execution_count": 44,
          "metadata": {},
          "output_type": "execute_result"
        }
      ],
      "source": [
        "#@title\n",
        "from IPython.display import Image\n",
        "Image(url='https://miro.medium.com/max/720/1*Mi63W9thPnat0EIRoqWR9Q.png')"
      ]
    },
    {
      "cell_type": "markdown",
      "id": "OaX_0AFR5DaX",
      "metadata": {
        "id": "OaX_0AFR5DaX"
      },
      "source": [
        "Wenn mann eine Abbildung mit den Gewichten auf der x-Achse und der Verlustfunktion auf der y-Achse erstellt, ist das Ziel um die Gewichte zu finden, die dem Minimum der Verlustfunktion entsprechen. Beim gradient descent aktualisiert mann die Gewichte des Netzes proportional zur Ableitung der Verlustfunktion. \n",
        "\n",
        "$$w_{\\text{new}} = w_{\\text{old}} - \\eta \\frac{d\\mathcal{L}}{dw}$$\n",
        "\n",
        "Der `learning_rate` ist $\\eta$ in der Formel. Da $w$ in der Regel eine Matrix ist (also eine Liste von Listen von Zahlen), ist die Ableitung leider nicht so einfach. Es ist jedoch nur wichtig, dass du das Konzept des Algorithmus verstehst.\n",
        "\n",
        "Wenn du es geschafft hast, das bis hierher zu verstehen, dann Hut ab vor dir, Einstein! Das ist wirklich eine beeindruckende Arbeit hier. "
      ]
    },
    {
      "cell_type": "markdown",
      "id": "-97DLnlf5wtW",
      "metadata": {
        "id": "-97DLnlf5wtW"
      },
      "source": [
        "### Einfache Implementierung eines neuronalen Netzes"
      ]
    },
    {
      "cell_type": "markdown",
      "id": "g7yMiliZ5wxP",
      "metadata": {
        "id": "g7yMiliZ5wxP"
      },
      "source": [
        "Wir werden dir nun zeigen, wie du auf einfache Weise ein neuronales Netzwerk mit Bibliotheken implementieren kannst, die du die meiste Arbeit abnehmen. Die Bibliothek, die wir verwenden werden, heißt Tensorflow. Wir werden auch ein paar andere Erweiterungen zu dem hinzufügen, was wir vorher gemacht haben.. Wir werden Schritt für Schritt erklären, worum es sich dabei handelt."
      ]
    },
    {
      "cell_type": "markdown",
      "id": "vFYx3hfk7T_J",
      "metadata": {
        "id": "vFYx3hfk7T_J"
      },
      "source": [
        "#### Trainings- und Testdatensatz"
      ]
    },
    {
      "cell_type": "markdown",
      "id": "tzXr7W3V69q6",
      "metadata": {
        "id": "tzXr7W3V69q6"
      },
      "source": [
        "Zuerst laden wir die Daten. Wir laden die Daten aus der Tensorflow-Bibliothek."
      ]
    },
    {
      "cell_type": "code",
      "execution_count": 1,
      "id": "iO0c-muJ6pI6",
      "metadata": {
        "id": "iO0c-muJ6pI6"
      },
      "outputs": [],
      "source": [
        "import numpy as np\n",
        "import tensorflow as tf\n",
        "(x_train, y_train), (x_test, y_test) = tf.keras.datasets.mnist.load_data()"
      ]
    },
    {
      "cell_type": "markdown",
      "id": "4kObgNJc7YBX",
      "metadata": {
        "id": "4kObgNJc7YBX"
      },
      "source": [
        "Beachte, dass in Tensorflow unser Datensatz in zwei Hälften aufgeteilt ist: ein Trainingsset und ein Testset. Warum ist dies der Fall, wirst du dich fragen? In der künstlichen Intelligenz will mann das Modell trainieren, aber gleichzeitig ist es wichtig, dass das Modell auch auf ungesehenen Daten gut funktioniert. Wenn wir unserem Modell immer dieselben Daten vorlegen, wird es die genauen Details dieses Datensatzes lernen und bei Daten, die es noch nie gesehen hat, nicht so gut funktionieren. \n",
        "\n",
        "Wir können das an einem einfachen Beispiel veranschaulichen. Im wirklichen Leben ist es etwas komplexer, aber das soll nur zum Verständnis dienen. Wenn du zum Beispiel deinem neuronalen Netz während des Trainingsprozesses Bilder von einer Katze und einem Hund gibst, dann wird es dieselben Katzen und Hunde so oft sehen, dass es vielleicht nur noch auf irrelevante Details in den Bildern dieser Katzen und Hunde achten wird. Zum Beispiel wird das Modell sagen, \n",
        "\n",
        "> \"Wenn ich etwas sehe mit Augen, einer Nase und spitzen Ohren, 4 Pfoten, einem Schwanz, einer roten Farbe, aber dann auch genau 23 Schnurrhaare, Streifen an bestimmten Stellen, immer auf einer blauen Couch, dann ist es eine Katze. Und wenn ich etwas mit Augen, spitzer Nase, herunterhängenden Ohren, 4 Pfoten, braunem Fell sehe, aber dann auch noch einen Tennisball in der Hand halte und auf einer grünen Wiese laufe, dann ist es ein Hund. Nur unter diesen besonderen Umständen weiß ich, um welches Tier es sich handelt, in allen anderen Fällen weiß ich es nicht.\"\n",
        "\n",
        "Dies ist ein anschauliches Beispiel für das, was wir *Overfitting* nennen. Das Modell lernt die genauen Details der Daten, die es gesehen hat, unabhängig von allen anderen Daten da draußen."
      ]
    },
    {
      "cell_type": "markdown",
      "id": "C9UGndVM-xXJ",
      "metadata": {
        "id": "C9UGndVM-xXJ"
      },
      "source": [
        "Nun fahren wir mit denselben Schritten fort, die wir zuvor mit den Daten durchgeführt haben, aber jetzt mit der Trainings-Eingabe `x_train` und der -Ausgabe `y_train` und der Test-Eingabe `x_test` und der -Ausgabe `y_test`."
      ]
    },
    {
      "cell_type": "code",
      "execution_count": null,
      "id": "6v4zVTaX7WuZ",
      "metadata": {
        "id": "6v4zVTaX7WuZ"
      },
      "outputs": [],
      "source": [
        "x_train = (x_train/255).astype('float32')\n",
        "x_test = (x_test/255).astype('float32')\n",
        "\n",
        "print('Number of images in x_train', x_train.shape[0])\n",
        "print('Number of images in x_test', x_test.shape[0])"
      ]
    },
    {
      "cell_type": "code",
      "execution_count": 3,
      "id": "916b79KS_EGJ",
      "metadata": {
        "id": "916b79KS_EGJ"
      },
      "outputs": [],
      "source": [
        "from keras.utils.np_utils import to_categorical\n",
        "y_train = to_categorical(y_train)\n",
        "y_test = to_categorical(y_test)"
      ]
    },
    {
      "cell_type": "markdown",
      "id": "SjhmilKB_smf",
      "metadata": {
        "id": "SjhmilKB_smf"
      },
      "source": [
        "Jetzt müssen wir unsere Bilder neu formen, da dies eine Anforderung der Tensorflow-Bibliothek ist."
      ]
    },
    {
      "cell_type": "code",
      "execution_count": 5,
      "id": "4-9sBL4y_mIy",
      "metadata": {
        "id": "4-9sBL4y_mIy"
      },
      "outputs": [],
      "source": [
        "x_train = np.expand_dims(x_train, -1)\n",
        "x_test = np.expand_dims(x_test, -1)"
      ]
    },
    {
      "cell_type": "markdown",
      "id": "EgHKbuQuBLY1",
      "metadata": {
        "id": "EgHKbuQuBLY1"
      },
      "source": [
        "Außerdem werden wir hier einige Variablen definieren, die für später nützlich sein können. \n"
      ]
    },
    {
      "cell_type": "code",
      "execution_count": null,
      "id": "ZE2lHEswBKm1",
      "metadata": {
        "id": "ZE2lHEswBKm1"
      },
      "outputs": [],
      "source": [
        "print('Size of the images: ', x_train.shape[1:])"
      ]
    },
    {
      "cell_type": "code",
      "execution_count": 7,
      "id": "5QWeedXtBaua",
      "metadata": {
        "id": "5QWeedXtBaua"
      },
      "outputs": [],
      "source": [
        "input_shape = x_train.shape[1:]"
      ]
    },
    {
      "cell_type": "code",
      "execution_count": null,
      "id": "rkSGwxd4CTx1",
      "metadata": {
        "id": "rkSGwxd4CTx1"
      },
      "outputs": [],
      "source": [
        "print(\"Number of output categories: \", y_train.shape[1])"
      ]
    },
    {
      "cell_type": "code",
      "execution_count": 10,
      "id": "NNMdaYLeCT3u",
      "metadata": {
        "id": "NNMdaYLeCT3u"
      },
      "outputs": [],
      "source": [
        "output_shape = y_train.shape[1]"
      ]
    },
    {
      "cell_type": "markdown",
      "id": "HhnLXWKxALjz",
      "metadata": {
        "id": "HhnLXWKxALjz"
      },
      "source": [
        "#### Verschiedene Arten von Modellen"
      ]
    },
    {
      "cell_type": "markdown",
      "id": "ARpLszcUALuY",
      "metadata": {
        "id": "ARpLszcUALuY"
      },
      "source": [
        "Im nächsten Schritt werden wir unser Modell mit der Tensorflow-Bibliothek erstellen. Wir werden dies ein wenig anders machen als zuvor. Vorher haben wir ein extrem einfaches neuronales Netz verwendet. Die Eingabeschichten waren direkt mit den Ausgabeschichten verbunden. Das Besondere an neuronalen Netzen ist jedoch, dass man viel mehr Schichten (layers) erstellen kann und so eine Art \"Tiefe\" im Netz erzeugt. Außerdem gibt es auch Schichten, die speziell für Bilder gedacht sind. Sie werden als *convolutional* layers bezeichnet und führen spezielle mathematische Berechnungen durch, um die Struktur des Bildes zu verarbeiten."
      ]
    },
    {
      "cell_type": "code",
      "execution_count": 11,
      "id": "tH9twtr6Az6G",
      "metadata": {
        "id": "tH9twtr6Az6G"
      },
      "outputs": [],
      "source": [
        "from tensorflow.keras.models import Sequential\n",
        "from tensorflow.keras.layers import Dense, Conv2D, Dropout, Flatten, MaxPooling2D\n",
        "\n",
        "# We define an empty model and add layers from input to output\n",
        "model = Sequential()\n",
        "\n",
        "# Add a first layer for processing the structure of the image\n",
        "model.add(Conv2D(28, kernel_size=(3,3), input_shape=input_shape))\n",
        "model.add(MaxPooling2D(pool_size=(2, 2)))\n",
        "model.add(Flatten())\n",
        "\n",
        "# Add more \"deep\" layers in the neural network\n",
        "model.add(Dense(128, activation=tf.nn.relu))\n",
        "model.add(Dropout(0.2))\n",
        "\n",
        "# The last layer of the network defining the output\n",
        "model.add(Dense(output_shape, activation=tf.nn.softmax))"
      ]
    },
    {
      "cell_type": "markdown",
      "id": "3oQYUW3pCv76",
      "metadata": {
        "id": "3oQYUW3pCv76"
      },
      "source": [
        "Nachdem wir nun das Modell definiert haben, erstellen wir es im Folgenden."
      ]
    },
    {
      "cell_type": "code",
      "execution_count": 12,
      "id": "D-FxD6t_A0EI",
      "metadata": {
        "id": "D-FxD6t_A0EI"
      },
      "outputs": [],
      "source": [
        "model.compile(optimizer='adam', # the optimization algorithm, similar to gradient descent\n",
        "              loss='categorical_crossentropy', # the loss function\n",
        "              metrics=['accuracy'])"
      ]
    },
    {
      "cell_type": "markdown",
      "id": "bUdokLMkHM5T",
      "metadata": {
        "id": "bUdokLMkHM5T"
      },
      "source": [
        "Schauen wir uns an, was passiert, wenn wir dieses Modell verwenden, um die Bezeichnung eines Bildes vorherzusagen."
      ]
    },
    {
      "cell_type": "code",
      "execution_count": null,
      "id": "zMckkljQIqqX",
      "metadata": {
        "id": "zMckkljQIqqX"
      },
      "outputs": [],
      "source": [
        "from matplotlib import pyplot as plt\n",
        "plt.imshow(x_train[0].squeeze(-1), cmap='Greys')\n",
        "plt.show()"
      ]
    },
    {
      "cell_type": "code",
      "execution_count": null,
      "id": "YENjE3lgHXXx",
      "metadata": {
        "id": "YENjE3lgHXXx"
      },
      "outputs": [],
      "source": [
        "model.predict(np.expand_dims(x_train[0], 0)).argmax(axis=1)"
      ]
    },
    {
      "cell_type": "markdown",
      "id": "J5VcBCoeI-ev",
      "metadata": {
        "id": "J5VcBCoeI-ev"
      },
      "source": [
        "Das sieht nicht wirklich gut aus, oder? Du kannst selbst einige Bilder ausprobieren, indem du die [`0`] in eine andere Zahl änderst."
      ]
    },
    {
      "cell_type": "markdown",
      "id": "rwndyeVHC4sD",
      "metadata": {
        "id": "rwndyeVHC4sD"
      },
      "source": [
        "Im folgenden Schritt werden wir das Modell trainieren mit der `fit` Funktion, damit es bessere Vorhersagen machen kann. Für das Training selbst verwenden wir jedoch nur die Daten aus dem Trainingssatz `x_train` und `y_train`. Der Testsatz wird nur verwendet, um zu beobachten, was passiert, aber das Modell lernt nicht wirklich aus dem Testsatz."
      ]
    },
    {
      "cell_type": "code",
      "execution_count": 16,
      "id": "TKIo3QyPGZbr",
      "metadata": {
        "id": "TKIo3QyPGZbr"
      },
      "outputs": [],
      "source": [
        "epochs=10"
      ]
    },
    {
      "cell_type": "code",
      "execution_count": null,
      "id": "5yXKx-KxA0K8",
      "metadata": {
        "id": "5yXKx-KxA0K8"
      },
      "outputs": [],
      "source": [
        "history = model.fit(x=x_train, y=y_train, validation_data=[x_test, y_test], epochs=epochs)"
      ]
    },
    {
      "cell_type": "markdown",
      "id": "dFqfGPB1DcsZ",
      "metadata": {
        "id": "dFqfGPB1DcsZ"
      },
      "source": [
        "Nach etwa 5 Minuten ist dein Modell mit der Trainingsphase fertig. Hole dich einen schönen Drink oder lese unten weiter."
      ]
    },
    {
      "cell_type": "markdown",
      "id": "A7cl7nchJtz3",
      "metadata": {
        "id": "A7cl7nchJtz3"
      },
      "source": [
        "Mal sehen, ob wir bei der Vorhersage besser geworden sind."
      ]
    },
    {
      "cell_type": "code",
      "execution_count": null,
      "id": "bb8vouGxJw1T",
      "metadata": {
        "id": "bb8vouGxJw1T"
      },
      "outputs": [],
      "source": [
        "plt.imshow(x_train[0].squeeze(-1), cmap='Greys')\n",
        "plt.show()"
      ]
    },
    {
      "cell_type": "code",
      "execution_count": null,
      "id": "FHsZCJPpJzyV",
      "metadata": {
        "id": "FHsZCJPpJzyV"
      },
      "outputs": [],
      "source": [
        "model.predict(np.expand_dims(x_train[0], 0)).argmax(axis=1)"
      ]
    },
    {
      "cell_type": "markdown",
      "id": "J2YEXqYSDZC-",
      "metadata": {
        "id": "J2YEXqYSDZC-"
      },
      "source": [
        "#### Metriken"
      ]
    },
    {
      "cell_type": "markdown",
      "id": "BBxi8MbWDbXj",
      "metadata": {
        "id": "BBxi8MbWDbXj"
      },
      "source": [
        "Nachdem wir nun das Modell trainiert haben, wollen wir sehen, wie gut es auf dem gesamten Datensatz funktioniert. Im obigen Code hast du vielleicht bemerkt, dass wir mit *Metriken* (`metrics`) gearbeitet haben. Metriken sind Funktionen, ähnlich wie die Verlustfunktion, die den Unterschied zwischen den wahren und den vorhergesagten Bezeichnungen quantifizieren. Eine der Metriken, die wir hier verwendet haben, ist die \"Accuracy\". Die Genauigkeit ist das, was du vielleicht denken. Sie ist der Prozentsatz der richtig klassifizierten Bilder geteilt durch die Gesamtzahl der Bilder."
      ]
    },
    {
      "cell_type": "markdown",
      "id": "r9G7OQRLESSj",
      "metadata": {
        "id": "r9G7OQRLESSj"
      },
      "source": [
        "Als wir den Trainings- und Testdatensatz erläuterten, erwähnten wir kurz das Prinzip der *Overfitting*. Ein Blick auf die Metriken für den Trainings- und den Testdatensatz kann uns helfen, eine Overfitting zu verhindern. Wir wollen zum Beispiel kein Modell, das eine sehr hohe Genauigkeit im Trainingsdatensatz hat, aber eine sehr niedrige Genauigkeit im Testdatensatz. Das würde bedeuten, dass das Modell bei ungesehenen Daten nicht gut funktioniert. Wir zeigen dir im Folgenden, wie du das untersuchen kannst."
      ]
    },
    {
      "cell_type": "markdown",
      "id": "jIOrCrHNF7iw",
      "metadata": {
        "id": "jIOrCrHNF7iw"
      },
      "source": [
        "Unten sehen wir den Verlust und die Genauigkeit des Modells auf dem Trainings- und Testdatensatz während des Trainings des Modells. Beachte, dass nur die Daten des Trainingssatzes zum Trainieren des Modells verwendet wurden. Die Daten des Testdatensatzes wurden nur zur Überwachung der Metriken während des Trainings verwendet."
      ]
    },
    {
      "cell_type": "code",
      "execution_count": null,
      "id": "ZL_SyJ3tDPL6",
      "metadata": {
        "id": "ZL_SyJ3tDPL6"
      },
      "outputs": [],
      "source": [
        "history.history"
      ]
    },
    {
      "cell_type": "markdown",
      "id": "ICY2lXrOGL_I",
      "metadata": {
        "id": "ICY2lXrOGL_I"
      },
      "source": [
        "Versuchen wir, das abzubilden."
      ]
    },
    {
      "cell_type": "code",
      "execution_count": null,
      "id": "As9ntXC3DPPC",
      "metadata": {
        "id": "As9ntXC3DPPC"
      },
      "outputs": [],
      "source": [
        "from matplotlib import pyplot as plt\n",
        "plt.plot(np.arange(epochs), history.history['accuracy'], label='train')\n",
        "plt.plot(np.arange(epochs), history.history['accuracy'], label='test')\n",
        "plt.xlabel('epoch')\n",
        "plt.ylabel('accuracy')\n",
        "plt.legend()\n",
        "plt.show()"
      ]
    },
    {
      "cell_type": "markdown",
      "id": "XKfxpW8BGiEV",
      "metadata": {
        "id": "XKfxpW8BGiEV"
      },
      "source": [
        "Was siehst du in dieser Abbildung? Haltest du es für gut?"
      ]
    },
    {
      "cell_type": "markdown",
      "id": "kfsYeeLcE__B",
      "metadata": {
        "id": "kfsYeeLcE__B"
      },
      "source": [
        "### Data Challenges auf kaggle.com"
      ]
    },
    {
      "cell_type": "markdown",
      "id": "a85d0a93",
      "metadata": {
        "id": "a85d0a93"
      },
      "source": [
        "Bei Ki geht es auch viel um so gennante *Benchmarks, Performance, und Accuracy*, diese Worte werden dazu benutzt KI Modele zu objektiv zu bewerten und Menschen einen Eindruck zu geben wie genau und gut ein Model funktioniert. \n",
        "\n",
        "Um euch dazu ein besseres Verständnis zu geben werden wir euch heute die **Fashion MNIST - GCT** Challenge vorstellen. \n",
        "\n",
        "So gennate Data Science Challenges gibt es viele und haben als Ziel Leute von aller Welt zusammen zu bringen, um an Coolen Problemen zu arbeiten. Jede Challenge hat ein Preisgeld für die drei besten Teams. Viele von diese Challenges werde auf Kaggle.com ausgetragen.  \n",
        "\n",
        "Kaggle, eine Tochtergesellschaft von Google, ist eine Online-Gemeinschaft von Datenwissenschaftlern und Fachleuten für maschinelles Lernen. Kaggle ermöglicht es den Nutzern, Datensätze zu finden und zu veröffentlichen, Modelle in einer webbasierten datenwissenschaftlichen Umgebung zu untersuchen und zu erstellen, mit anderen Datenwissenschaftlern und Ingenieuren für maschinelles Lernen zusammenzuarbeiten und an Wettbewerben teilzunehmen, um datenwissenschaftliche Herausforderungen zu lösen.\n",
        "\n",
        "Kaggle begann 2010 mit dem Angebot von Wettbewerben zum maschinellen Lernen und bietet jetzt auch eine öffentliche Datenplattform, eine Cloud-basierte Workbench für die Datenwissenschaft und Schulungen zur künstlichen Intelligenz an. Die wichtigsten Mitarbeiter des Unternehmens waren Anthony Goldbloom und Jeremy Howard. Nicholas Gruen war der Gründungsvorsitzende, gefolgt von Max Levchin. Im Jahr 2011 wurde eine Kapitalerhöhung durchgeführt, bei der das Unternehmen mit 25,2 Millionen Dollar bewertet wurde. Am 8. März 2017 kündigte Google die Übernahme von Kaggle an."
      ]
    },
    {
      "cell_type": "markdown",
      "id": "vs1S8EaKFN-N",
      "metadata": {
        "id": "vs1S8EaKFN-N"
      },
      "source": [
        "**Die heutige Challenge**\n",
        "\n",
        "Heute geht es bei uns um die [**Fashion MNIST - GCT**](https://www.kaggle.com/competitions/fashiongct) Challenge. Ziel der Challenge ist es die beste Performance auf dem Fashion MNIST Datensatz zu erreichen.\n",
        "\n",
        "Fashion-MNIST ist ein Datensatz von Zalando-Artikelbildern - bestehend aus einem Trainingssatz von 60.000 Beispielen und einem Testsatz von 10.000 Beispielen. Jedes Beispiel ist ein 28x28-Graustufenbild, das mit einem Label aus 10 Klassen verknüpft ist. Die Klassen sind: \n",
        "\n",
        "- 0 T-shirt/Oberteil\n",
        "- 1 Hose\n",
        "- 2 Pullover\n",
        "- 3 Kleid\n",
        "- 4 Mantel\n",
        "- 5 Sandale\n",
        "- 6 Hemd\n",
        "- 7 Turnschuh\n",
        "- 8 Tasche\n",
        "- 9 Stiefelette\n",
        "\n",
        "Zalando beabsichtigt, Fashion-MNIST als direkten Ersatz für den ursprünglichen MNIST-Datensatz zum Benchmarking von Algorithmen für maschinelles Lernen zu verwenden. Er hat die gleiche Bildgröße und Struktur der Trainings- und Test-Splits.\n",
        "\n",
        "Der ursprüngliche MNIST-Datensatz enthält viele handgeschriebene Ziffern. Mitglieder der AI/ML/Data Science-Gemeinschaft lieben diesen Datensatz und verwenden ihn als Benchmark, um ihre Algorithmen zu validieren. In der Tat ist MNIST oft der erste Datensatz, den Forscher ausprobieren. \"Wenn es auf MNIST nicht funktioniert, funktioniert es überhaupt nicht\", heißt es. \"Wenn es auf MNIST funktioniert, kann es auf anderen Datensätzen immer noch scheitern.\"\n",
        "\n",
        "Um mit der Challenge anzufangen, öffnet bitte [diesem Link](https://www.kaggle.com/competitions/fashiongct). "
      ]
    },
    {
      "cell_type": "markdown",
      "id": "740b15d3",
      "metadata": {
        "id": "740b15d3"
      },
      "source": [
        "# Et voilà! Ihr habt es geschafft! "
      ]
    },
    {
      "cell_type": "markdown",
      "id": "invalid-thomas",
      "metadata": {
        "id": "invalid-thomas"
      },
      "source": [
        "# Weitere Beispiele\n",
        "\n",
        "Falls ihr noch nicht genug habt, könnte ihr auch gerne hier malreinschauen: \n",
        "\n",
        "- https://medium.com/@hannalee/art-creator-25fda3c35d8b\n",
        "- https://medium.com/@ecyy/tensorflow-hub-create-an-artistic-picture-by-a-ml-app-e21308c7db1b\n",
        "\n",
        "Viel Spass und vielen Dank, dass ihr bis zum Ende alles gegeben habt! "
      ]
    }
  ],
  "metadata": {
    "colab": {
      "include_colab_link": true,
      "provenance": []
    },
    "kernelspec": {
      "display_name": "Python 3.9.12 ('resmonics-m1')",
      "language": "python",
      "name": "python3"
    },
    "language_info": {
      "codemirror_mode": {
        "name": "ipython",
        "version": 3
      },
      "file_extension": ".py",
      "mimetype": "text/x-python",
      "name": "python",
      "nbconvert_exporter": "python",
      "pygments_lexer": "ipython3",
      "version": "3.9.12"
    },
    "vscode": {
      "interpreter": {
        "hash": "38361a3b49dff0a52d2edbe04f3e177675ef5f5705c3091b57b0e03ef8849bb6"
      }
    },
    "widgets": {
      "application/vnd.jupyter.widget-state+json": {
        "008b293dae2845a3a875b37ea27f0d74": {
          "model_module": "@jupyter-widgets/base",
          "model_module_version": "1.2.0",
          "model_name": "LayoutModel",
          "state": {
            "_model_module": "@jupyter-widgets/base",
            "_model_module_version": "1.2.0",
            "_model_name": "LayoutModel",
            "_view_count": null,
            "_view_module": "@jupyter-widgets/base",
            "_view_module_version": "1.2.0",
            "_view_name": "LayoutView",
            "align_content": null,
            "align_items": null,
            "align_self": null,
            "border": null,
            "bottom": null,
            "display": null,
            "flex": null,
            "flex_flow": null,
            "grid_area": null,
            "grid_auto_columns": null,
            "grid_auto_flow": null,
            "grid_auto_rows": null,
            "grid_column": null,
            "grid_gap": null,
            "grid_row": null,
            "grid_template_areas": null,
            "grid_template_columns": null,
            "grid_template_rows": null,
            "height": null,
            "justify_content": null,
            "justify_items": null,
            "left": null,
            "margin": null,
            "max_height": null,
            "max_width": null,
            "min_height": null,
            "min_width": null,
            "object_fit": null,
            "object_position": null,
            "order": null,
            "overflow": null,
            "overflow_x": null,
            "overflow_y": null,
            "padding": null,
            "right": null,
            "top": null,
            "visibility": null,
            "width": null
          }
        },
        "4242f303eefc4dc787ca7aec816335f0": {
          "model_module": "@jupyter-widgets/controls",
          "model_module_version": "1.5.0",
          "model_name": "DescriptionStyleModel",
          "state": {
            "_model_module": "@jupyter-widgets/controls",
            "_model_module_version": "1.5.0",
            "_model_name": "DescriptionStyleModel",
            "_view_count": null,
            "_view_module": "@jupyter-widgets/base",
            "_view_module_version": "1.2.0",
            "_view_name": "StyleView",
            "description_width": ""
          }
        },
        "696ad9c26ef04fbc8b48706032960e83": {
          "model_module": "@jupyter-widgets/base",
          "model_module_version": "1.2.0",
          "model_name": "LayoutModel",
          "state": {
            "_model_module": "@jupyter-widgets/base",
            "_model_module_version": "1.2.0",
            "_model_name": "LayoutModel",
            "_view_count": null,
            "_view_module": "@jupyter-widgets/base",
            "_view_module_version": "1.2.0",
            "_view_name": "LayoutView",
            "align_content": null,
            "align_items": null,
            "align_self": null,
            "border": null,
            "bottom": null,
            "display": null,
            "flex": null,
            "flex_flow": null,
            "grid_area": null,
            "grid_auto_columns": null,
            "grid_auto_flow": null,
            "grid_auto_rows": null,
            "grid_column": null,
            "grid_gap": null,
            "grid_row": null,
            "grid_template_areas": null,
            "grid_template_columns": null,
            "grid_template_rows": null,
            "height": null,
            "justify_content": null,
            "justify_items": null,
            "left": null,
            "margin": null,
            "max_height": null,
            "max_width": null,
            "min_height": null,
            "min_width": null,
            "object_fit": null,
            "object_position": null,
            "order": null,
            "overflow": null,
            "overflow_x": null,
            "overflow_y": null,
            "padding": null,
            "right": null,
            "top": null,
            "visibility": null,
            "width": null
          }
        },
        "7f59f4b95d5c41eeab322a0bf087d0e2": {
          "model_module": "@jupyter-widgets/output",
          "model_module_version": "1.0.0",
          "model_name": "OutputModel",
          "state": {
            "_dom_classes": [],
            "_model_module": "@jupyter-widgets/output",
            "_model_module_version": "1.0.0",
            "_model_name": "OutputModel",
            "_view_count": null,
            "_view_module": "@jupyter-widgets/output",
            "_view_module_version": "1.0.0",
            "_view_name": "OutputView",
            "layout": "IPY_MODEL_ab0af1a545e14810971defb28a1a3228",
            "msg_id": "",
            "outputs": [
              {
                "data": {
                  "image/png": "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\n",
                  "text/plain": "<Figure size 432x288 with 1 Axes>"
                },
                "metadata": {
                  "needs_background": "light"
                },
                "output_type": "display_data"
              }
            ]
          }
        },
        "9b91abc647bb4201a3f53d697d27667d": {
          "model_module": "@jupyter-widgets/controls",
          "model_module_version": "1.5.0",
          "model_name": "DropdownModel",
          "state": {
            "_dom_classes": [],
            "_model_module": "@jupyter-widgets/controls",
            "_model_module_version": "1.5.0",
            "_model_name": "DropdownModel",
            "_options_labels": [
              "R",
              "G",
              "B"
            ],
            "_view_count": null,
            "_view_module": "@jupyter-widgets/controls",
            "_view_module_version": "1.5.0",
            "_view_name": "DropdownView",
            "description": "channel",
            "description_tooltip": null,
            "disabled": false,
            "index": 0,
            "layout": "IPY_MODEL_008b293dae2845a3a875b37ea27f0d74",
            "style": "IPY_MODEL_4242f303eefc4dc787ca7aec816335f0"
          }
        },
        "a8725f5e756a463db623c07451d9980b": {
          "model_module": "@jupyter-widgets/controls",
          "model_module_version": "1.5.0",
          "model_name": "VBoxModel",
          "state": {
            "_dom_classes": [
              "widget-interact"
            ],
            "_model_module": "@jupyter-widgets/controls",
            "_model_module_version": "1.5.0",
            "_model_name": "VBoxModel",
            "_view_count": null,
            "_view_module": "@jupyter-widgets/controls",
            "_view_module_version": "1.5.0",
            "_view_name": "VBoxView",
            "box_style": "",
            "children": [
              "IPY_MODEL_9b91abc647bb4201a3f53d697d27667d",
              "IPY_MODEL_7f59f4b95d5c41eeab322a0bf087d0e2"
            ],
            "layout": "IPY_MODEL_696ad9c26ef04fbc8b48706032960e83"
          }
        },
        "ab0af1a545e14810971defb28a1a3228": {
          "model_module": "@jupyter-widgets/base",
          "model_module_version": "1.2.0",
          "model_name": "LayoutModel",
          "state": {
            "_model_module": "@jupyter-widgets/base",
            "_model_module_version": "1.2.0",
            "_model_name": "LayoutModel",
            "_view_count": null,
            "_view_module": "@jupyter-widgets/base",
            "_view_module_version": "1.2.0",
            "_view_name": "LayoutView",
            "align_content": null,
            "align_items": null,
            "align_self": null,
            "border": null,
            "bottom": null,
            "display": null,
            "flex": null,
            "flex_flow": null,
            "grid_area": null,
            "grid_auto_columns": null,
            "grid_auto_flow": null,
            "grid_auto_rows": null,
            "grid_column": null,
            "grid_gap": null,
            "grid_row": null,
            "grid_template_areas": null,
            "grid_template_columns": null,
            "grid_template_rows": null,
            "height": null,
            "justify_content": null,
            "justify_items": null,
            "left": null,
            "margin": null,
            "max_height": null,
            "max_width": null,
            "min_height": null,
            "min_width": null,
            "object_fit": null,
            "object_position": null,
            "order": null,
            "overflow": null,
            "overflow_x": null,
            "overflow_y": null,
            "padding": null,
            "right": null,
            "top": null,
            "visibility": null,
            "width": null
          }
        }
      }
    }
  },
  "nbformat": 4,
  "nbformat_minor": 5
}
