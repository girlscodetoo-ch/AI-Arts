{
 "cells": [
  {
   "cell_type": "markdown",
   "id": "coated-cambridge",
   "metadata": {},
   "source": [
    "# GirlsCodeToo Workshop - AI & Arts"
   ]
  },
  {
   "cell_type": "markdown",
   "id": "asian-psychology",
   "metadata": {},
   "source": [
    "Welcome to the GirsCodeToo AI & Arts workshop. "
   ]
  },
  {
   "cell_type": "code",
   "execution_count": null,
   "id": "later-justice",
   "metadata": {},
   "outputs": [],
   "source": []
  }
 ],
 "metadata": {
  "kernelspec": {
   "display_name": "Python 3",
   "language": "python",
   "name": "python3"
  },
  "language_info": {
   "codemirror_mode": {
    "name": "ipython",
    "version": 3
   },
   "file_extension": ".py",
   "mimetype": "text/x-python",
   "name": "python",
   "nbconvert_exporter": "python",
   "pygments_lexer": "ipython3",
   "version": "3.7.5"
  }
 },
 "nbformat": 4,
 "nbformat_minor": 5
}
