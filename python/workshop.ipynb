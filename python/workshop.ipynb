{
 "cells": [
  {
   "cell_type": "markdown",
   "id": "coated-cambridge",
   "metadata": {},
   "source": [
    "# GirlsCodeToo Workshop - AI & Arts"
   ]
  },
  {
   "cell_type": "markdown",
   "id": "asian-psychology",
   "metadata": {},
   "source": [
    "Welcome to the GirsCodeToo AI & Arts workshop. In this notebook, you will get a quick introduction to Python, learn how a computer sees images and learn how to use AI to create art. Let's get started!"
   ]
  },
  {
   "cell_type": "markdown",
   "id": "veterinary-forestry",
   "metadata": {},
   "source": [
    "## Introduction to python (15 min)"
   ]
  },
  {
   "cell_type": "markdown",
   "id": "brazilian-tampa",
   "metadata": {},
   "source": [
    "Here we will give you a quick introduction to python, so that you can understand what is going on in the next stages. But first, what is python actually? Python is a programming language, that is used to give a computer instructions to do certain things. This entire notebook is also written in python.\n",
    "\n",
    "We will start with a simple example. Underneath you will see a block of *code*. You can run this code by pressing ``ctrl + enter``. Once you run it, below the code block some text will appear, and in front of it you will see ``[1]``. Make sure that you run all the code blocks in this code, otherwise you may get an *error message*."
   ]
  },
  {
   "cell_type": "code",
   "execution_count": null,
   "id": "engaging-nepal",
   "metadata": {},
   "outputs": [],
   "source": [
    "print(\"Hello world\")"
   ]
  },
  {
   "cell_type": "markdown",
   "id": "gothic-military",
   "metadata": {},
   "source": [
    "**Exercise 1** Now it's up to you! Try to print your name in the code block below. (For solutions: scroll down.)"
   ]
  },
  {
   "cell_type": "code",
   "execution_count": null,
   "id": "automated-carnival",
   "metadata": {},
   "outputs": [],
   "source": []
  },
  {
   "cell_type": "markdown",
   "id": "smaller-front",
   "metadata": {},
   "source": [
    "Great start so far! You just told the computer to print your name on the screen. If you want to practice a little more, you can create more cells using the ``+`` button on the top of your screen."
   ]
  },
  {
   "attachments": {
    "screenshot1-2.png": {
     "image/png": "[encoded data removed]"
    }
   },
   "cell_type": "markdown",
   "id": "conditional-values",
   "metadata": {},
   "source": [
    "![screenshot1-2.png](attachment:screenshot1-2.png)"
   ]
  },
  {
   "cell_type": "markdown",
   "id": "fixed-census",
   "metadata": {},
   "source": [
    "Now we will go a little further. You can also tell the computer to do calculations for you. For example (run the code block below yourself, and you will see a number underneath):"
   ]
  },
  {
   "cell_type": "code",
   "execution_count": null,
   "id": "material-complex",
   "metadata": {},
   "outputs": [],
   "source": [
    "1+2"
   ]
  },
  {
   "cell_type": "markdown",
   "id": "distant-porter",
   "metadata": {},
   "source": [
    "Or another example:"
   ]
  },
  {
   "cell_type": "code",
   "execution_count": null,
   "id": "nominated-affect",
   "metadata": {},
   "outputs": [],
   "source": [
    "8*9"
   ]
  },
  {
   "cell_type": "markdown",
   "id": "graduate-crest",
   "metadata": {},
   "source": [
    "**Exercise 2** Now it's up to you. Show everyone that you can do this complicated sum. 12345 * 6789 = ?"
   ]
  },
  {
   "cell_type": "code",
   "execution_count": null,
   "id": "employed-placement",
   "metadata": {},
   "outputs": [],
   "source": []
  },
  {
   "cell_type": "markdown",
   "id": "greater-sussex",
   "metadata": {},
   "source": [
    "Great work! Now we will go a little further again. Remember in math class that you have to calculate $x = ...$? In this case, $x$ is called a *variable*. Similar to math, you can also tell the computer to use variables. For example, we can tell the computer now that $a = 5$ and $b = 10$. Try it yourself."
   ]
  },
  {
   "cell_type": "code",
   "execution_count": null,
   "id": "annoying-efficiency",
   "metadata": {},
   "outputs": [],
   "source": [
    "a = 3"
   ]
  },
  {
   "cell_type": "code",
   "execution_count": null,
   "id": "subjective-mortgage",
   "metadata": {},
   "outputs": [],
   "source": [
    "b = 6"
   ]
  },
  {
   "cell_type": "markdown",
   "id": "wireless-trout",
   "metadata": {},
   "source": [
    "Now if we want to calculate what $b : a$ is, we can of course, also let the computer do this."
   ]
  },
  {
   "cell_type": "code",
   "execution_count": null,
   "id": "innovative-curtis",
   "metadata": {},
   "outputs": [],
   "source": [
    "b / a"
   ]
  },
  {
   "cell_type": "markdown",
   "id": "binding-executive",
   "metadata": {},
   "source": [
    "That's not so difficult right?"
   ]
  },
  {
   "cell_type": "markdown",
   "id": "artificial-associate",
   "metadata": {},
   "source": [
    "**Exercise 3** Now you try it yourself. Make a variable $c = 9$ and calculate $a*b : c$"
   ]
  },
  {
   "cell_type": "code",
   "execution_count": null,
   "id": "configured-moderator",
   "metadata": {},
   "outputs": [],
   "source": []
  },
  {
   "cell_type": "markdown",
   "id": "innocent-remainder",
   "metadata": {},
   "source": [
    "Now it may happen that we want to automate this. That means, maybe we want to calculate for any three variables $a * b : c$. We can do that using a *function*. A function is very useful in python, and you will likely see many of them. The typical structure of a function is as follows:"
   ]
  },
  {
   "cell_type": "code",
   "execution_count": null,
   "id": "offshore-pursuit",
   "metadata": {},
   "outputs": [],
   "source": [
    "def introduce_yourself(name):\n",
    "    sentence = \"My name is \" + name\n",
    "    print(sentence)\n",
    "    return sentence"
   ]
  },
  {
   "cell_type": "markdown",
   "id": "happy-columbia",
   "metadata": {},
   "source": [
    "A function always starts with ``def`` and you can give it a name (here: ``introduce_yourself``). You can give it an input (here: ``name``), it does something in the middle with that input (here: create and print a sentence) and in the end, it returns an output (here: ``sentence``). You can run a function as follows:"
   ]
  },
  {
   "cell_type": "code",
   "execution_count": null,
   "id": "homeless-tribute",
   "metadata": {},
   "outputs": [],
   "source": [
    "sentence = introduce_yourself(\"Eva\")"
   ]
  },
  {
   "cell_type": "markdown",
   "id": "elder-lending",
   "metadata": {},
   "source": [
    "Another example: we want to create a function that calculates the product of three variables ($a * b * c$). This would look as follows:"
   ]
  },
  {
   "cell_type": "code",
   "execution_count": null,
   "id": "administrative-barbados",
   "metadata": {},
   "outputs": [],
   "source": [
    "def product(a, b, c):\n",
    "    return a * b * c"
   ]
  },
  {
   "cell_type": "markdown",
   "id": "passing-refund",
   "metadata": {},
   "source": [
    "If we now use this function to calculate $ 6 * 7 * 8 $, it will look as follows:"
   ]
  },
  {
   "cell_type": "code",
   "execution_count": null,
   "id": "italian-buddy",
   "metadata": {},
   "outputs": [],
   "source": [
    "product(6, 7, 8)"
   ]
  },
  {
   "cell_type": "markdown",
   "id": "digital-parade",
   "metadata": {},
   "source": [
    "**Exercise 4** Now you try it yourself: create a function that calculates ($a * b : c$). Use this function to calculate $ 4 * 8 : 2 $ and $ 6 * 12 : 3 $. We already helped you by giving the skeleton for a function. You just have to fill it in."
   ]
  },
  {
   "cell_type": "code",
   "execution_count": null,
   "id": "insured-consumption",
   "metadata": {},
   "outputs": [],
   "source": [
    "def product_divide():\n",
    "    return"
   ]
  },
  {
   "cell_type": "code",
   "execution_count": null,
   "id": "decreased-marble",
   "metadata": {},
   "outputs": [],
   "source": [
    "product_divide()"
   ]
  },
  {
   "cell_type": "code",
   "execution_count": null,
   "id": "marked-ferry",
   "metadata": {},
   "outputs": [],
   "source": [
    "product_divide()"
   ]
  },
  {
   "cell_type": "markdown",
   "id": "lasting-sentence",
   "metadata": {},
   "source": [
    "Great work! We are almost done with the intro, hang in there."
   ]
  },
  {
   "cell_type": "markdown",
   "id": "incorporated-preview",
   "metadata": {},
   "source": [
    "The great thing about python is that there are many people who already came up with these functions. You can use these functions in your code after you have imported them using ``import``. Below an example."
   ]
  },
  {
   "cell_type": "code",
   "execution_count": null,
   "id": "composite-childhood",
   "metadata": {},
   "outputs": [],
   "source": [
    "import numpy as np"
   ]
  },
  {
   "cell_type": "markdown",
   "id": "amino-accordance",
   "metadata": {},
   "source": [
    "Numpy is a library that many people use. For example, it has the function ``sqrt`` in there, which you can use to calculate the square root of a number:"
   ]
  },
  {
   "cell_type": "code",
   "execution_count": null,
   "id": "blank-engineering",
   "metadata": {},
   "outputs": [],
   "source": [
    "np.sqrt(144) # this calculates the square root of 144"
   ]
  },
  {
   "cell_type": "markdown",
   "id": "applicable-cathedral",
   "metadata": {},
   "source": [
    "Note that the computer does not see the part after ``#``. This is called a *comment* and can just be an extra explanation for someone else who reads your code."
   ]
  },
  {
   "cell_type": "markdown",
   "id": "backed-landscape",
   "metadata": {},
   "source": [
    "Then the last useful thing for you to know. In python you can create *lists* or *arrays*. These are basically lists of numbers. You will see later on how they will be useful. You can create a list and an array as follows:"
   ]
  },
  {
   "cell_type": "code",
   "execution_count": null,
   "id": "accomplished-profession",
   "metadata": {},
   "outputs": [],
   "source": [
    "my_first_list = [0,1,2]\n",
    "my_other_list = [3,4,5]\n",
    "print(\"My first list: \", my_first_list)\n",
    "print(\"My other list: \", my_other_list)"
   ]
  },
  {
   "cell_type": "markdown",
   "id": "planned-latin",
   "metadata": {},
   "source": [
    "You can do all kinds of useful things with lists. For example, you can add up all numbers in the list."
   ]
  },
  {
   "cell_type": "code",
   "execution_count": null,
   "id": "frank-heavy",
   "metadata": {},
   "outputs": [],
   "source": [
    "sum(my_list)"
   ]
  },
  {
   "cell_type": "markdown",
   "id": "respective-block",
   "metadata": {},
   "source": [
    "Or you can even multiply up two lists"
   ]
  },
  {
   "cell_type": "code",
   "execution_count": null,
   "id": "accepted-subdivision",
   "metadata": {
    "scrolled": true
   },
   "outputs": [],
   "source": [
    "np.multiply(my_first_list, my_other_list)"
   ]
  },
  {
   "cell_type": "markdown",
   "id": "dynamic-professor",
   "metadata": {},
   "source": [
    "If you want to access the first element of the list, you can do so by putting an number in square brackets behind that list. "
   ]
  },
  {
   "cell_type": "code",
   "execution_count": null,
   "id": "fatty-diary",
   "metadata": {},
   "outputs": [],
   "source": [
    "my_other_list[0]"
   ]
  },
  {
   "cell_type": "code",
   "execution_count": null,
   "id": "inner-finger",
   "metadata": {},
   "outputs": [],
   "source": [
    "my_other_list[1]"
   ]
  },
  {
   "cell_type": "code",
   "execution_count": null,
   "id": "compressed-holocaust",
   "metadata": {},
   "outputs": [],
   "source": [
    "my_other_list[2]"
   ]
  },
  {
   "cell_type": "markdown",
   "id": "sapphire-tiger",
   "metadata": {},
   "source": [
    "Remember what the variable `my_other_list` looked like? Notice something weird here? In most programming languages, we start counting from `0` instead of `1`. So to get the first element from a list, you put `[0]` behind the list."
   ]
  },
  {
   "cell_type": "markdown",
   "id": "interstate-onion",
   "metadata": {},
   "source": [
    "Some people get even crazier and make even lists of lists ... "
   ]
  },
  {
   "cell_type": "code",
   "execution_count": null,
   "id": "sublime-officer",
   "metadata": {},
   "outputs": [],
   "source": [
    "my_2d_list = [[0,1,2], [3,4,5]]\n",
    "print(my_2d_list)"
   ]
  },
  {
   "cell_type": "markdown",
   "id": "earlier-monitor",
   "metadata": {},
   "source": [
    "You will find out later why this might be useful for processing images. Or maybe you are already getting some intuition? Let's see.."
   ]
  },
  {
   "cell_type": "markdown",
   "id": "surprised-paradise",
   "metadata": {},
   "source": [
    "In any case, you know now how to understand a some python code! Below we will continue with images in the computer."
   ]
  },
  {
   "cell_type": "markdown",
   "id": "corrected-denial",
   "metadata": {},
   "source": [
    "## Images in a computer"
   ]
  },
  {
   "cell_type": "markdown",
   "id": "interested-directory",
   "metadata": {},
   "source": [
    "Before we continue it is important to understand how a computer sees images. We will start by loading in an image in python. Please run the cells below in order to make everything work."
   ]
  },
  {
   "cell_type": "code",
   "execution_count": null,
   "id": "large-allah",
   "metadata": {},
   "outputs": [],
   "source": [
    "import tensorflow as tf # we need this library for the AI that we will do later\n",
    "import os # another useful library for browsing through your files on your computer"
   ]
  },
  {
   "cell_type": "code",
   "execution_count": null,
   "id": "relative-consumption",
   "metadata": {},
   "outputs": [],
   "source": [
    "print(os.getcwd()) # this is useful for the instructor if you get an error message in the next step"
   ]
  },
  {
   "cell_type": "code",
   "execution_count": null,
   "id": "accepted-advice",
   "metadata": {},
   "outputs": [],
   "source": [
    "image = tf.io.read_file('../images/dog.jpg') # this cell loads the image"
   ]
  },
  {
   "cell_type": "markdown",
   "id": "honey-substance",
   "metadata": {},
   "source": [
    "You have succesfully loaded the image. Now let's see what it looks like!"
   ]
  },
  {
   "cell_type": "code",
   "execution_count": null,
   "id": "drawn-mistake",
   "metadata": {},
   "outputs": [],
   "source": [
    "print(image)"
   ]
  },
  {
   "cell_type": "markdown",
   "id": "bronze-cancellation",
   "metadata": {},
   "source": [
    "Whoops! That looks weird. Now we are seeing what the computer considers the image to be: a stream of \"bytes\" (many 0s and 1s). This is simply how the image is saved and encoded. However, we need to *decode* and read the stream of bytes, so that the computer can use the image. Luckily, we can use a function that decodes this byte stream into something that is a little more readable."
   ]
  },
  {
   "cell_type": "code",
   "execution_count": null,
   "id": "intended-aaron",
   "metadata": {},
   "outputs": [],
   "source": [
    "image = tf.image.decode_image(image, channels=3)"
   ]
  },
  {
   "cell_type": "code",
   "execution_count": null,
   "id": "united-nigeria",
   "metadata": {
    "scrolled": true
   },
   "outputs": [],
   "source": [
    "print(image)"
   ]
  },
  {
   "cell_type": "markdown",
   "id": "norman-representative",
   "metadata": {},
   "source": [
    "That already looks a little bit better. Let's see if we can display it here."
   ]
  },
  {
   "cell_type": "code",
   "execution_count": null,
   "id": "placed-oasis",
   "metadata": {},
   "outputs": [],
   "source": [
    "from matplotlib import pyplot as plt # a library that you can use for making figures and showing images\n",
    "\n",
    "plt.imshow(image)"
   ]
  },
  {
   "cell_type": "markdown",
   "id": "beginning-haven",
   "metadata": {},
   "source": [
    "Look! Here we have our image. This might be a little magic for you (or not), but we will explain a bit more about programming with these images."
   ]
  },
  {
   "cell_type": "markdown",
   "id": "monthly-blanket",
   "metadata": {},
   "source": [
    "Now let's go back to how the image is loaded. After decoding the image, you get a list of numbers. Let's print it again underneath."
   ]
  },
  {
   "cell_type": "code",
   "execution_count": null,
   "id": "employed-master",
   "metadata": {
    "scrolled": true
   },
   "outputs": [],
   "source": [
    "print(image)"
   ]
  },
  {
   "cell_type": "markdown",
   "id": "young-breath",
   "metadata": {},
   "source": [
    "Do you recognize something from before? If you are looking closely, maybe you see that we are looking at lists of lists of lists. Pfoo, that's complicated! Let's see if we can break this down for you. What about we start by looking at the shape of these lists."
   ]
  },
  {
   "cell_type": "code",
   "execution_count": null,
   "id": "narrative-bailey",
   "metadata": {},
   "outputs": [],
   "source": [
    "print(image.shape)"
   ]
  },
  {
   "cell_type": "markdown",
   "id": "tracked-married",
   "metadata": {},
   "source": [
    "What we see here is that we have 3 lists of lists. Let's have a look at each of them."
   ]
  },
  {
   "cell_type": "code",
   "execution_count": null,
   "id": "afraid-custody",
   "metadata": {},
   "outputs": [],
   "source": [
    "print(\"First list: \", image[:, :, 0])\n",
    "print(\"\\nSecond list: \", image[:, :, 1])\n",
    "print(\"\\nThird list: \", image[:, :, 2])"
   ]
  },
  {
   "cell_type": "markdown",
   "id": "current-defeat",
   "metadata": {},
   "source": [
    "Let's also display the lists below:"
   ]
  },
  {
   "cell_type": "code",
   "execution_count": null,
   "id": "endangered-display",
   "metadata": {},
   "outputs": [],
   "source": [
    "plt.imshow(image[:, :, 0], cmap='Reds')"
   ]
  },
  {
   "cell_type": "code",
   "execution_count": null,
   "id": "specified-style",
   "metadata": {},
   "outputs": [],
   "source": [
    "plt.imshow(image[:, :, 1], cmap='Greens')"
   ]
  },
  {
   "cell_type": "code",
   "execution_count": null,
   "id": "stuffed-player",
   "metadata": {},
   "outputs": [],
   "source": [
    "plt.imshow(image[:, :, 2], cmap='Blues')"
   ]
  },
  {
   "cell_type": "markdown",
   "id": "powerful-valve",
   "metadata": {},
   "source": [
    "Are you already noticing something here? Hint: remember that an image on your computer is usually in RGB (Red Green Blue). Let's print the image again."
   ]
  },
  {
   "cell_type": "code",
   "execution_count": null,
   "id": "sealed-shaft",
   "metadata": {
    "scrolled": true
   },
   "outputs": [],
   "source": [
    "print(image)"
   ]
  },
  {
   "cell_type": "markdown",
   "id": "acoustic-shark",
   "metadata": {},
   "source": [
    "This list of list of list are simply the pixel values in the red green and blue channels. If you would add all the colors together, you would get the photo of the dog as you know it. The shape of the image here is 750 x 1125 pixels."
   ]
  },
  {
   "cell_type": "markdown",
   "id": "alike-philip",
   "metadata": {},
   "source": [
    "Everything that we will continue to do in this exercise, is using the fact that the computer sees images as lists (of lists of lists) of numbers. The computer will add, subtract, and multiply these numbers many times over, and in the end, that will be your AI. Not so difficult right?"
   ]
  },
  {
   "cell_type": "markdown",
   "id": "mineral-survivor",
   "metadata": {},
   "source": [
    "Now let's do a quick recap and some exercises for you. When you read in an image, there are two steps: \n",
    "\n",
    "1. **Reading in the bytes**\n",
    "2. **Decoding the bytes into pixel values**"
   ]
  },
  {
   "cell_type": "markdown",
   "id": "instant-aruba",
   "metadata": {},
   "source": [
    "**Exercise 5** Remember the lines of code before that did that? Now try to write your own function that reads in these images. We have already provided a bit of the code below. What goes into the function is the variable `filepath` which should tell you where your image is located, and it should return a variable `image` which are the pixel values of your image."
   ]
  },
  {
   "cell_type": "code",
   "execution_count": null,
   "id": "worst-conjunction",
   "metadata": {},
   "outputs": [],
   "source": [
    "def read_image(filepath):\n",
    "    \n",
    "    return image"
   ]
  },
  {
   "cell_type": "markdown",
   "id": "funny-region",
   "metadata": {},
   "source": [
    "If you have successfully completed this exercise, great work. You are really making progress here. Even if it's a little more difficult, remember that it takes many people a long time to master and you have only just started. Also, if you plan to continue programming after the workshop, we can tell you that Google will be your friend :) "
   ]
  },
  {
   "cell_type": "markdown",
   "id": "strange-vessel",
   "metadata": {},
   "source": [
    "Now let's continue to the AI!"
   ]
  },
  {
   "cell_type": "markdown",
   "id": "biblical-video",
   "metadata": {},
   "source": [
    "## AI & Art"
   ]
  },
  {
   "cell_type": "code",
   "execution_count": null,
   "id": "entire-graphics",
   "metadata": {},
   "outputs": [],
   "source": []
  },
  {
   "cell_type": "code",
   "execution_count": null,
   "id": "married-surveillance",
   "metadata": {},
   "outputs": [],
   "source": [
    "ls"
   ]
  },
  {
   "cell_type": "code",
   "execution_count": null,
   "id": "compact-sessions",
   "metadata": {},
   "outputs": [],
   "source": [
    "# everything below is work in progress"
   ]
  },
  {
   "cell_type": "code",
   "execution_count": null,
   "id": "palestinian-manual",
   "metadata": {},
   "outputs": [],
   "source": [
    "def load_img(path_to_img):\n",
    "    max_dim = 512\n",
    "    img = tf.io.read_file(path_to_img)\n",
    "    img = tf.image.decode_image(img, channels=3)\n",
    "    img = tf.image.convert_image_dtype(img, tf.float32)\n",
    "\n",
    "    shape = tf.cast(tf.shape(img)[:-1], tf.float32)\n",
    "    long_dim = max(shape)\n",
    "    scale = max_dim / long_dim\n",
    "\n",
    "    new_shape = tf.cast(shape * scale, tf.int32)\n",
    "\n",
    "    img = tf.image.resize(img, new_shape)\n",
    "    img = img[tf.newaxis, :]\n",
    "    return img"
   ]
  },
  {
   "cell_type": "markdown",
   "id": "exciting-theory",
   "metadata": {},
   "source": []
  },
  {
   "cell_type": "code",
   "execution_count": null,
   "id": "tamil-given",
   "metadata": {},
   "outputs": [],
   "source": []
  },
  {
   "cell_type": "code",
   "execution_count": null,
   "id": "immediate-underwear",
   "metadata": {},
   "outputs": [],
   "source": []
  },
  {
   "cell_type": "code",
   "execution_count": null,
   "id": "invalid-thomas",
   "metadata": {},
   "outputs": [],
   "source": []
  },
  {
   "cell_type": "code",
   "execution_count": null,
   "id": "mexican-infection",
   "metadata": {},
   "outputs": [],
   "source": []
  },
  {
   "cell_type": "code",
   "execution_count": null,
   "id": "excessive-martial",
   "metadata": {},
   "outputs": [],
   "source": []
  },
  {
   "cell_type": "code",
   "execution_count": null,
   "id": "sustainable-clause",
   "metadata": {},
   "outputs": [],
   "source": []
  },
  {
   "cell_type": "code",
   "execution_count": null,
   "id": "combined-argument",
   "metadata": {},
   "outputs": [],
   "source": []
  },
  {
   "cell_type": "markdown",
   "id": "specified-angel",
   "metadata": {},
   "source": [
    "## Using AI to create art"
   ]
  },
  {
   "cell_type": "code",
   "execution_count": null,
   "id": "unexpected-estimate",
   "metadata": {},
   "outputs": [],
   "source": []
  },
  {
   "cell_type": "markdown",
   "id": "incoming-remainder",
   "metadata": {},
   "source": [
    "## Solutions"
   ]
  },
  {
   "cell_type": "markdown",
   "id": "ancient-pearl",
   "metadata": {},
   "source": [
    "**Exercise 1**"
   ]
  },
  {
   "cell_type": "code",
   "execution_count": null,
   "id": "continental-receipt",
   "metadata": {},
   "outputs": [],
   "source": [
    "print(\"Eva\")"
   ]
  },
  {
   "cell_type": "markdown",
   "id": "furnished-corner",
   "metadata": {},
   "source": [
    "**Exercise 2**"
   ]
  },
  {
   "cell_type": "code",
   "execution_count": null,
   "id": "potential-antibody",
   "metadata": {},
   "outputs": [],
   "source": [
    "12345*6789"
   ]
  },
  {
   "cell_type": "markdown",
   "id": "necessary-vancouver",
   "metadata": {},
   "source": [
    "**Exercise 3**"
   ]
  },
  {
   "cell_type": "code",
   "execution_count": null,
   "id": "lined-alaska",
   "metadata": {},
   "outputs": [],
   "source": [
    "c = 9"
   ]
  },
  {
   "cell_type": "code",
   "execution_count": null,
   "id": "center-drawing",
   "metadata": {},
   "outputs": [],
   "source": [
    "a * c / b"
   ]
  },
  {
   "cell_type": "markdown",
   "id": "sound-receptor",
   "metadata": {},
   "source": [
    "**Exercise 4**"
   ]
  },
  {
   "cell_type": "code",
   "execution_count": null,
   "id": "adverse-animal",
   "metadata": {},
   "outputs": [],
   "source": [
    "def product_divide(a, b, c):\n",
    "    return a*b/c"
   ]
  },
  {
   "cell_type": "code",
   "execution_count": null,
   "id": "complex-assault",
   "metadata": {},
   "outputs": [],
   "source": [
    "product_divide(4, 8, 2)"
   ]
  },
  {
   "cell_type": "code",
   "execution_count": null,
   "id": "negative-module",
   "metadata": {},
   "outputs": [],
   "source": [
    "product_divide(6, 12, 3)"
   ]
  },
  {
   "cell_type": "markdown",
   "id": "connected-bible",
   "metadata": {},
   "source": [
    "**Exercise 5**"
   ]
  },
  {
   "cell_type": "code",
   "execution_count": null,
   "id": "dying-joseph",
   "metadata": {},
   "outputs": [],
   "source": [
    "def read_image(filepath):\n",
    "    image = tf.io.read_file(image)\n",
    "    image = tf.image.decode_image(image, channels=3)\n",
    "    return image"
   ]
  },
  {
   "cell_type": "code",
   "execution_count": null,
   "id": "continent-mongolia",
   "metadata": {},
   "outputs": [],
   "source": []
  },
  {
   "cell_type": "code",
   "execution_count": null,
   "id": "floppy-specification",
   "metadata": {},
   "outputs": [],
   "source": []
  },
  {
   "cell_type": "code",
   "execution_count": null,
   "id": "identified-mistake",
   "metadata": {},
   "outputs": [],
   "source": []
  }
 ],
 "metadata": {
  "kernelspec": {
   "display_name": "Python 3",
   "language": "python",
   "name": "python3"
  },
  "language_info": {
   "codemirror_mode": {
    "name": "ipython",
    "version": 3
   },
   "file_extension": ".py",
   "mimetype": "text/x-python",
   "name": "python",
   "nbconvert_exporter": "python",
   "pygments_lexer": "ipython3",
   "version": "3.7.5"
  }
 },
 "nbformat": 4,
 "nbformat_minor": 5
}
